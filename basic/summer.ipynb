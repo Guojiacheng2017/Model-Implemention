{
 "cells": [
  {
   "cell_type": "code",
   "execution_count": 1,
   "outputs": [],
   "source": [
    "lines = [['6','5'],\n",
    "         ['1', '4', '2', '5', '3', '4'],\n",
    "         ['10100'],\n",
    "         ['00010'],\n",
    "         ['01100'],\n",
    "         ['01000'],\n",
    "         ['11111']]\n",
    "\n",
    "# expected = 9"
   ],
   "metadata": {
    "collapsed": false,
    "ExecuteTime": {
     "start_time": "2023-05-02T23:50:35.115655Z",
     "end_time": "2023-05-02T23:50:35.148655Z"
    }
   }
  },
  {
   "cell_type": "code",
   "execution_count": 2,
   "outputs": [],
   "source": [
    "# import sys\n",
    "#\n",
    "# lines = []\n",
    "# for line in sys.stdin:\n",
    "#     a = line.split()\n",
    "#     # print(a)\n",
    "#     lines.append(a)\n",
    "#     # print(int(a[0]) + int(a[1]))\n",
    "\n",
    "line_1 = lines[0]\n",
    "line_2 = lines[1]\n",
    "if (int(line_1[0]) != len(line_2)):\n",
    "    print('Error')\n",
    "\n",
    "# print(line_1[0], line_1[1])\n",
    "lens = int(line_1[0])       # 最深的树是6\n",
    "types = int(line_1[1])\n",
    "# print(type(line_2[0])) # line_2 index is 1->5->3->6, when the corresponding number is 1->3->2->4\n",
    "# print(line_2[-1])\n",
    "start = int(line_2[0])\n",
    "dest = int(line_2[-1])\n",
    "# print(len(lines))\n",
    "\n",
    "# pipe = []\n",
    "# siz = len(lines) - 2\n",
    "# for idx in range(2, len(lines)):\n",
    "#     print(lines[idx][0])\n",
    "#     for i in range(siz):\n",
    "#         # print(lines[idx][0][i])\n",
    "#         pipe.append(lines[idx][0][i])\n",
    "\n",
    "    # pipe.append(lines[idx][0].split())\n",
    "\n",
    "# print(lines[1].(str(3)))"
   ],
   "metadata": {
    "collapsed": false,
    "ExecuteTime": {
     "start_time": "2023-05-02T23:50:35.153291Z",
     "end_time": "2023-05-02T23:50:35.155853Z"
    }
   }
  },
  {
   "cell_type": "code",
   "execution_count": 3,
   "outputs": [],
   "source": [
    "def index_of(i, str_list, channel):\n",
    "    list_a = []\n",
    "    for idx, st in enumerate(str_list):\n",
    "        if i == int(st):\n",
    "            # print(idx)\n",
    "            if channel[idx] is True:\n",
    "                channel[idx] = False\n",
    "                # print(channel)\n",
    "                list_a.append(idx + 1)\n",
    "            continue\n",
    "    return list_a"
   ],
   "metadata": {
    "collapsed": false,
    "ExecuteTime": {
     "start_time": "2023-05-02T23:50:35.158503Z",
     "end_time": "2023-05-02T23:50:35.160737Z"
    }
   }
  },
  {
   "cell_type": "code",
   "execution_count": 4,
   "metadata": {
    "collapsed": true,
    "ExecuteTime": {
     "start_time": "2023-05-02T23:50:35.167578Z",
     "end_time": "2023-05-02T23:50:35.169720Z"
    }
   },
   "outputs": [],
   "source": [
    "channel = []\n",
    "for i in range(len(line_2)):\n",
    "    channel.append(True)\n",
    "# print(a)\n",
    "\n",
    "# count = 0\n",
    "def path(start, start_i, dest, channel, count = 0):\n",
    "    count += 1\n",
    "    if count > lens:\n",
    "        print('Out of Time')\n",
    "        return -1\n",
    "    list_sum = []\n",
    "    # rst = []\n",
    "\n",
    "    for i in range(types):\n",
    "        # print(\"i: \", i)\n",
    "        channel_a = channel\n",
    "        if int(lines[int(start) + 1][0][i]) == 1:\n",
    "            position = index_of(i+1, lines[1], channel_a)\n",
    "            print(\"idx: \", position, \"len_idx\", len(position))\n",
    "            if len(position) != 0:\n",
    "                for _, posi in enumerate(position):\n",
    "                    if (int(lines[1][posi - 1]) == (dest) and posi == lens) is True:\n",
    "                        rst = abs(posi - start_i)\n",
    "                        print(\"posi:____\", posi, \"rst: ____\", rst, \"dest: ___\", dest)\n",
    "                        return rst\n",
    "                    else:\n",
    "                        # print('this')\n",
    "                        temp = lines[1][posi - 1]\n",
    "\n",
    "                        rst = path(temp, posi, dest, channel_a, count=count)\n",
    "                        rst = rst + abs(posi - start_i)\n",
    "                        print('diff:', abs(posi - start_i), \"posi:____\", posi, \"rst: ____\", rst)\n",
    "                    list_sum.append(rst)\n",
    "            else:\n",
    "                print(\"Wrong Path\")\n",
    "                # return -1\n",
    "\n",
    "    print(\"list_sum\", list_sum)\n",
    "    if len(list_sum) == 0:\n",
    "        return 0\n",
    "\n",
    "    return min(list_sum)"
   ]
  },
  {
   "cell_type": "code",
   "execution_count": 5,
   "outputs": [
    {
     "name": "stdout",
     "output_type": "stream",
     "text": [
      "idx:  [] len_idx 0\n",
      "Wrong Path\n",
      "idx:  [5] len_idx 1\n",
      "idx:  [3] len_idx 1\n",
      "idx:  [2, 6] len_idx 2\n",
      "idx:  [] len_idx 0\n",
      "Wrong Path\n",
      "list_sum []\n",
      "diff: 1 posi:____ 2 rst: ____ 1\n",
      "posi:____ 6 rst: ____ 3 dest: ___ 4\n",
      "diff: 2 posi:____ 3 rst: ____ 5\n",
      "idx:  [] len_idx 0\n",
      "Wrong Path\n",
      "list_sum [5]\n",
      "diff: 4 posi:____ 5 rst: ____ 9\n",
      "list_sum [9]\n",
      "rst:  9\n"
     ]
    }
   ],
   "source": [
    "# channel[0] = False\n",
    "start_i = index_of(start, lines[1], channel)\n",
    "rst = path(start, start_i[0], dest, channel)\n",
    "print(\"rst: \", rst)"
   ],
   "metadata": {
    "collapsed": false,
    "ExecuteTime": {
     "start_time": "2023-05-02T23:50:35.172003Z",
     "end_time": "2023-05-02T23:50:35.182516Z"
    }
   }
  }
 ],
 "metadata": {
  "kernelspec": {
   "display_name": "Python 3",
   "language": "python",
   "name": "python3"
  },
  "language_info": {
   "codemirror_mode": {
    "name": "ipython",
    "version": 2
   },
   "file_extension": ".py",
   "mimetype": "text/x-python",
   "name": "python",
   "nbconvert_exporter": "python",
   "pygments_lexer": "ipython2",
   "version": "2.7.6"
  }
 },
 "nbformat": 4,
 "nbformat_minor": 0
}
