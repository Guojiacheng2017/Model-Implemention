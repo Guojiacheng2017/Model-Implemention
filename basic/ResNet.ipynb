{
 "cells": [
  {
   "cell_type": "code",
   "execution_count": 1,
   "metadata": {
    "collapsed": true
   },
   "outputs": [],
   "source": [
    "import torch\n",
    "import torch.nn as nn\n",
    "import torchvision.datasets as datasets\n",
    "from torchvision.transforms import ToTensor\n",
    "import numpy as np\n"
   ]
  },
  {
   "cell_type": "code",
   "execution_count": 2,
   "outputs": [
    {
     "name": "stdout",
     "output_type": "stream",
     "text": [
      "Dataset MNIST\n",
      "    Number of datapoints: 60000\n",
      "    Root location: data\n",
      "    Split: Train\n",
      "    StandardTransform\n",
      "Transform: ToTensor()\n"
     ]
    }
   ],
   "source": [
    "device = torch.device('cuda' if torch.cuda.is_available() else 'cpu')\n",
    "\n",
    "train_data = datasets.MNIST(\n",
    "    root='data',\n",
    "    train=True,\n",
    "    transform=ToTensor(),\n",
    "    download=False\n",
    ")\n",
    "\n",
    "test_data = datasets.MNIST(\n",
    "    root='data',\n",
    "    train=False,\n",
    "    transform=ToTensor()\n",
    ")\n",
    "\n",
    "print(train_data)"
   ],
   "metadata": {
    "collapsed": false
   }
  },
  {
   "cell_type": "code",
   "execution_count": 3,
   "outputs": [
    {
     "data": {
      "text/plain": "{'train': <torch.utils.data.dataloader.DataLoader at 0x7fd3998eedc0>,\n 'test': <torch.utils.data.dataloader.DataLoader at 0x7fd3998ee7c0>}"
     },
     "execution_count": 3,
     "metadata": {},
     "output_type": "execute_result"
    }
   ],
   "source": [
    "from torch.utils.data import DataLoader\n",
    "loaders = {\n",
    "    'train': torch.utils.data.DataLoader(train_data, batch_size=100, shuffle=True, num_workers=1),\n",
    "    'test': torch.utils.data.DataLoader(test_data, batch_size=100, shuffle=True, num_workers=1)\n",
    "}\n",
    "\n",
    "loaders"
   ],
   "metadata": {
    "collapsed": false
   }
  },
  {
   "cell_type": "code",
   "execution_count": 4,
   "outputs": [
    {
     "name": "stdout",
     "output_type": "stream",
     "text": [
      "ResNet(\n",
      "  (conv1): Conv2d(1, 64, kernel_size=(7, 7), stride=(2, 2), padding=(3, 3), bias=False)\n",
      "  (bn): BatchNorm2d(64, eps=1e-05, momentum=0.1, affine=True, track_running_stats=True)\n",
      "  (relu): ReLU(inplace=True)\n",
      "  (maxpool): MaxPool2d(kernel_size=3, stride=2, padding=1, dilation=1, ceil_mode=False)\n",
      "  (layer1): Sequential(\n",
      "    (0): Bottleneck(\n",
      "      (bottleneck): Sequential(\n",
      "        (0): Conv2d(64, 64, kernel_size=(1, 1), stride=(1, 1), bias=False)\n",
      "        (1): BatchNorm2d(64, eps=1e-05, momentum=0.1, affine=True, track_running_stats=True)\n",
      "        (2): ReLU(inplace=True)\n",
      "        (3): Conv2d(64, 64, kernel_size=(3, 3), stride=(1, 1), padding=(1, 1), bias=False)\n",
      "        (4): BatchNorm2d(64, eps=1e-05, momentum=0.1, affine=True, track_running_stats=True)\n",
      "        (5): ReLU(inplace=True)\n",
      "        (6): Conv2d(64, 256, kernel_size=(1, 1), stride=(1, 1), bias=False)\n",
      "        (7): BatchNorm2d(256, eps=1e-05, momentum=0.1, affine=True, track_running_stats=True)\n",
      "      )\n",
      "      (relu): ReLU(inplace=True)\n",
      "      (shortcut): Sequential(\n",
      "        (0): Conv2d(64, 256, kernel_size=(1, 1), stride=(1, 1), bias=False)\n",
      "        (1): BatchNorm2d(256, eps=1e-05, momentum=0.1, affine=True, track_running_stats=True)\n",
      "        (2): ReLU(inplace=True)\n",
      "      )\n",
      "    )\n",
      "  )\n",
      "  (layer2): Sequential(\n",
      "    (0): Bottleneck(\n",
      "      (bottleneck): Sequential(\n",
      "        (0): Conv2d(256, 128, kernel_size=(1, 1), stride=(1, 1), bias=False)\n",
      "        (1): BatchNorm2d(128, eps=1e-05, momentum=0.1, affine=True, track_running_stats=True)\n",
      "        (2): ReLU(inplace=True)\n",
      "        (3): Conv2d(128, 128, kernel_size=(3, 3), stride=(2, 2), padding=(1, 1), bias=False)\n",
      "        (4): BatchNorm2d(128, eps=1e-05, momentum=0.1, affine=True, track_running_stats=True)\n",
      "        (5): ReLU(inplace=True)\n",
      "        (6): Conv2d(128, 512, kernel_size=(1, 1), stride=(1, 1), bias=False)\n",
      "        (7): BatchNorm2d(512, eps=1e-05, momentum=0.1, affine=True, track_running_stats=True)\n",
      "      )\n",
      "      (relu): ReLU(inplace=True)\n",
      "      (shortcut): Sequential(\n",
      "        (0): Conv2d(256, 512, kernel_size=(1, 1), stride=(2, 2), bias=False)\n",
      "        (1): BatchNorm2d(512, eps=1e-05, momentum=0.1, affine=True, track_running_stats=True)\n",
      "        (2): ReLU(inplace=True)\n",
      "      )\n",
      "    )\n",
      "  )\n",
      "  (layer3): Sequential(\n",
      "    (0): Bottleneck(\n",
      "      (bottleneck): Sequential(\n",
      "        (0): Conv2d(512, 256, kernel_size=(1, 1), stride=(1, 1), bias=False)\n",
      "        (1): BatchNorm2d(256, eps=1e-05, momentum=0.1, affine=True, track_running_stats=True)\n",
      "        (2): ReLU(inplace=True)\n",
      "        (3): Conv2d(256, 256, kernel_size=(3, 3), stride=(2, 2), padding=(1, 1), bias=False)\n",
      "        (4): BatchNorm2d(256, eps=1e-05, momentum=0.1, affine=True, track_running_stats=True)\n",
      "        (5): ReLU(inplace=True)\n",
      "        (6): Conv2d(256, 1024, kernel_size=(1, 1), stride=(1, 1), bias=False)\n",
      "        (7): BatchNorm2d(1024, eps=1e-05, momentum=0.1, affine=True, track_running_stats=True)\n",
      "      )\n",
      "      (relu): ReLU(inplace=True)\n",
      "      (shortcut): Sequential(\n",
      "        (0): Conv2d(512, 1024, kernel_size=(1, 1), stride=(2, 2), bias=False)\n",
      "        (1): BatchNorm2d(1024, eps=1e-05, momentum=0.1, affine=True, track_running_stats=True)\n",
      "        (2): ReLU(inplace=True)\n",
      "      )\n",
      "    )\n",
      "  )\n",
      "  (layer4): Sequential(\n",
      "    (0): Bottleneck(\n",
      "      (bottleneck): Sequential(\n",
      "        (0): Conv2d(1024, 512, kernel_size=(1, 1), stride=(1, 1), bias=False)\n",
      "        (1): BatchNorm2d(512, eps=1e-05, momentum=0.1, affine=True, track_running_stats=True)\n",
      "        (2): ReLU(inplace=True)\n",
      "        (3): Conv2d(512, 512, kernel_size=(3, 3), stride=(2, 2), padding=(1, 1), bias=False)\n",
      "        (4): BatchNorm2d(512, eps=1e-05, momentum=0.1, affine=True, track_running_stats=True)\n",
      "        (5): ReLU(inplace=True)\n",
      "        (6): Conv2d(512, 2048, kernel_size=(1, 1), stride=(1, 1), bias=False)\n",
      "        (7): BatchNorm2d(2048, eps=1e-05, momentum=0.1, affine=True, track_running_stats=True)\n",
      "      )\n",
      "      (relu): ReLU(inplace=True)\n",
      "      (shortcut): Sequential(\n",
      "        (0): Conv2d(1024, 2048, kernel_size=(1, 1), stride=(2, 2), bias=False)\n",
      "        (1): BatchNorm2d(2048, eps=1e-05, momentum=0.1, affine=True, track_running_stats=True)\n",
      "        (2): ReLU(inplace=True)\n",
      "      )\n",
      "    )\n",
      "  )\n",
      "  (avgpool): AdaptiveAvgPool2d(output_size=(1, 1))\n",
      "  (linear): Linear(in_features=2048, out_features=10, bias=True)\n",
      ")\n"
     ]
    }
   ],
   "source": [
    "from model import ResNet, Basicblock, Bottleneck\n",
    "from torch import optim\n",
    "\n",
    "# model = ResNet(Basicblock, 1, [1, 1, 1, 1], 10)\n",
    "model = ResNet(Bottleneck, 1, [1, 1, 1, 1], 10)\n",
    "print(model)\n",
    "loss_func = nn.CrossEntropyLoss()"
   ],
   "metadata": {
    "collapsed": false
   }
  },
  {
   "cell_type": "code",
   "execution_count": 5,
   "outputs": [],
   "source": [
    "optim_sgd = optim.SGD(model.parameters(), lr=0.1, momentum=0.05)\n",
    "optim = optim_sgd"
   ],
   "metadata": {
    "collapsed": false
   }
  },
  {
   "cell_type": "code",
   "execution_count": 6,
   "outputs": [],
   "source": [
    "num_epochs = 5\n",
    "\n",
    "loss_array = []\n",
    "\n",
    "def train(num_epochs, model, loaders, optimizer, loss_arr):\n",
    "    print('* Start Training *...')\n",
    "    model.train()\n",
    "    total_steps = len(loaders['train'])\n",
    "    loss_per_100 = []\n",
    "\n",
    "    for epoch in range(num_epochs):\n",
    "        for i, (images, labels) in enumerate(loaders['train']):\n",
    "            X = images.to(device)\n",
    "            y = labels.to(device)\n",
    "\n",
    "            pred = model(X)\n",
    "            criterion = loss_func(pred, y)\n",
    "\n",
    "            pred_label = torch.max(pred, 1)[1].data.squeeze() # labels are from 1 to 10, minimum value is 1\n",
    "\n",
    "            optimizer.zero_grad()\n",
    "            criterion.backward()\n",
    "            optimizer.step()\n",
    "\n",
    "            loss_per_100.append(criterion.detach().numpy())\n",
    "            if (i + 1) % 100 == 0:\n",
    "                loss = sum(loss_per_100) / len(loss_per_100)\n",
    "                loss_arr.append(loss)\n",
    "                loss_per_100 = []\n",
    "                print ('Epoch [{}/{}], Step [{}/{}], Loss: {:.4f}, Accuracy: [{}/{}]'\n",
    "                       .format(epoch + 1, num_epochs, i + 1, total_steps, criterion, (pred_label == labels).sum(), len(pred))) # len(pred) == 100\n",
    "            pass\n",
    "        pass\n",
    "    pass\n"
   ],
   "metadata": {
    "collapsed": false
   }
  },
  {
   "cell_type": "code",
   "execution_count": 7,
   "outputs": [
    {
     "name": "stdout",
     "output_type": "stream",
     "text": [
      "* Start Training *...\n",
      "Epoch [1/5], Step [100/600], Loss: 0.3320, Accuracy: [92/100]\n",
      "Epoch [1/5], Step [200/600], Loss: 0.1581, Accuracy: [97/100]\n",
      "Epoch [1/5], Step [300/600], Loss: 0.0425, Accuracy: [98/100]\n",
      "Epoch [1/5], Step [400/600], Loss: 0.0353, Accuracy: [98/100]\n",
      "Epoch [1/5], Step [500/600], Loss: 0.0992, Accuracy: [98/100]\n",
      "Epoch [1/5], Step [600/600], Loss: 0.1661, Accuracy: [95/100]\n",
      "Epoch [2/5], Step [100/600], Loss: 0.0784, Accuracy: [96/100]\n",
      "Epoch [2/5], Step [200/600], Loss: 0.0462, Accuracy: [98/100]\n",
      "Epoch [2/5], Step [300/600], Loss: 0.0889, Accuracy: [98/100]\n",
      "Epoch [2/5], Step [400/600], Loss: 0.0170, Accuracy: [100/100]\n",
      "Epoch [2/5], Step [500/600], Loss: 0.0281, Accuracy: [99/100]\n",
      "Epoch [2/5], Step [600/600], Loss: 0.0050, Accuracy: [100/100]\n",
      "Epoch [3/5], Step [100/600], Loss: 0.0354, Accuracy: [98/100]\n",
      "Epoch [3/5], Step [200/600], Loss: 0.0550, Accuracy: [99/100]\n",
      "Epoch [3/5], Step [300/600], Loss: 0.0606, Accuracy: [99/100]\n",
      "Epoch [3/5], Step [400/600], Loss: 0.0356, Accuracy: [98/100]\n",
      "Epoch [3/5], Step [500/600], Loss: 0.0125, Accuracy: [99/100]\n",
      "Epoch [3/5], Step [600/600], Loss: 0.0114, Accuracy: [100/100]\n",
      "Epoch [4/5], Step [100/600], Loss: 0.0269, Accuracy: [99/100]\n",
      "Epoch [4/5], Step [200/600], Loss: 0.0092, Accuracy: [100/100]\n",
      "Epoch [4/5], Step [300/600], Loss: 0.0097, Accuracy: [99/100]\n",
      "Epoch [4/5], Step [400/600], Loss: 0.0344, Accuracy: [98/100]\n",
      "Epoch [4/5], Step [500/600], Loss: 0.0104, Accuracy: [100/100]\n",
      "Epoch [4/5], Step [600/600], Loss: 0.0081, Accuracy: [99/100]\n",
      "Epoch [5/5], Step [100/600], Loss: 0.0031, Accuracy: [100/100]\n",
      "Epoch [5/5], Step [200/600], Loss: 0.0048, Accuracy: [100/100]\n",
      "Epoch [5/5], Step [300/600], Loss: 0.0004, Accuracy: [100/100]\n",
      "Epoch [5/5], Step [400/600], Loss: 0.0076, Accuracy: [100/100]\n",
      "Epoch [5/5], Step [500/600], Loss: 0.0003, Accuracy: [100/100]\n",
      "Epoch [5/5], Step [600/600], Loss: 0.0010, Accuracy: [100/100]\n"
     ]
    }
   ],
   "source": [
    "train(num_epochs, model, loaders, optim, loss_array)"
   ],
   "metadata": {
    "collapsed": false
   }
  },
  {
   "cell_type": "code",
   "execution_count": 8,
   "outputs": [
    {
     "data": {
      "text/plain": "30"
     },
     "execution_count": 8,
     "metadata": {},
     "output_type": "execute_result"
    }
   ],
   "source": [
    "len(loss_array)"
   ],
   "metadata": {
    "collapsed": false
   }
  },
  {
   "cell_type": "code",
   "execution_count": 9,
   "outputs": [
    {
     "data": {
      "text/plain": "<function matplotlib.pyplot.legend(*args, **kwargs)>"
     },
     "execution_count": 9,
     "metadata": {},
     "output_type": "execute_result"
    },
    {
     "data": {
      "text/plain": "<Figure size 432x288 with 1 Axes>",
      "image/png": "[encoded data removed]"
     },
     "metadata": {
      "needs_background": "light"
     },
     "output_type": "display_data"
    }
   ],
   "source": [
    "import matplotlib.pyplot as plt\n",
    "\n",
    "x_range = np.linspace(start=1, stop=30, num=30)\n",
    "plt.figure()\n",
    "plt.xlabel('epochs')\n",
    "plt.ylabel('errors')\n",
    "plt.plot(x_range, loss_array, color = 'blue')\n",
    "# plt.plot(x_range, loss_arr_2, color = 'red')\n",
    "plt.legend"
   ],
   "metadata": {
    "collapsed": false
   }
  },
  {
   "cell_type": "code",
   "execution_count": 9,
   "outputs": [],
   "source": [],
   "metadata": {
    "collapsed": false
   }
  }
 ],
 "metadata": {
  "kernelspec": {
   "display_name": "Python 3",
   "language": "python",
   "name": "python3"
  },
  "language_info": {
   "codemirror_mode": {
    "name": "ipython",
    "version": 2
   },
   "file_extension": ".py",
   "mimetype": "text/x-python",
   "name": "python",
   "nbconvert_exporter": "python",
   "pygments_lexer": "ipython2",
   "version": "2.7.6"
  }
 },
 "nbformat": 4,
 "nbformat_minor": 0
}
