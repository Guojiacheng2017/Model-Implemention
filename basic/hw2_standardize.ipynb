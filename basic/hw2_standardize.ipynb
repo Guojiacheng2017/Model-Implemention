{
 "cells": [
  {
   "cell_type": "markdown",
   "source": [
    "## 3.1 Normalizing features"
   ],
   "metadata": {
    "collapsed": false
   }
  },
  {
   "cell_type": "code",
   "execution_count": 12,
   "outputs": [],
   "source": [
    "import pickle   # byte streaming storing and reading // Python对象结构进行二进制序列化和反序列化的协议实现\n",
    "import pandas as pd\n",
    "import numpy as np"
   ],
   "metadata": {
    "collapsed": false
   }
  },
  {
   "cell_type": "code",
   "execution_count": 13,
   "outputs": [],
   "source": [
    "def get_mean(x):\n",
    "    return sum(x)/len(x)\n",
    "\n",
    "def get_std(x, mean):\n",
    "    return ((x - mean).dot(x - mean) / len(x))**0.5\n",
    "\n",
    "def get_mean_and_std(x):\n",
    "    mean = get_mean(x)\n",
    "    std = get_std(x, mean)\n",
    "    return mean, std\n",
    "\n",
    "def normalization(x, mean, std):\n",
    "    return (x - mean)/std"
   ],
   "metadata": {
    "collapsed": false
   }
  },
  {
   "cell_type": "code",
   "execution_count": 22,
   "outputs": [],
   "source": [
    "def proc_data(data_path):\n",
    "    \"\"\"\n",
    "    standardize the housing data and output it to an external file 'normalized.txt'\n",
    "    Args:\n",
    "        data_path: data path given by programmer\n",
    "\n",
    "    Returns:\n",
    "        Void Return\n",
    "    \"\"\"\n",
    "    # standardize the housing data, save the normalized data to 'normalized.txt'\n",
    "    ## to do\n",
    "    h_data = pd.read_table(data_path, header = None, sep = \",\")\n",
    "    # h_mean, h_std = get_mean_and_std(h_data)\n",
    "\n",
    "    a_data = h_data[0]\n",
    "    a_mean, a_std = get_mean_and_std(a_data)\n",
    "\n",
    "    n_data = h_data[1]\n",
    "    n_mean, n_std = get_mean_and_std(n_data)\n",
    "\n",
    "    p_data = h_data[2]\n",
    "    p_mean, p_std = get_mean_and_std(p_data)\n",
    "\n",
    "    h_mean = [a_mean, n_mean, p_mean]\n",
    "    h_std = [a_std, n_std, p_std]\n",
    "\n",
    "    df = normalization(h_data, h_mean, h_std)\n",
    "    df.to_csv('../rst/normalized_df.txt')   # save method 1\n",
    "    np.savetxt('../rst/normalized.txt', df, delimiter=',')   # save method 2\n",
    "\n",
    "    # store the values used for normalization\n",
    "    f = open(\"../rst/mean_std.pk\", \"wb\")\n",
    "    pickle.dump({'area': {'mean': a_mean, 'std': a_std},\n",
    "                 'n_bedrooom': {'mean': n_mean, 'std': n_std},\n",
    "                 'price': {'mean': p_mean, 'std': p_std}},\n",
    "                f)\n",
    "    f.close()\n",
    "\n",
    "    return"
   ],
   "metadata": {
    "collapsed": false
   }
  },
  {
   "cell_type": "code",
   "execution_count": 23,
   "outputs": [],
   "source": [
    "data_path = '../data/housing.txt'\n",
    "proc_data(data_path)"
   ],
   "metadata": {
    "collapsed": false
   }
  },
  {
   "cell_type": "code",
   "execution_count": null,
   "outputs": [],
   "source": [],
   "metadata": {
    "collapsed": false
   }
  }
 ],
 "metadata": {
  "kernelspec": {
   "display_name": "Python 3",
   "language": "python",
   "name": "python3"
  },
  "language_info": {
   "codemirror_mode": {
    "name": "ipython",
    "version": 2
   },
   "file_extension": ".py",
   "mimetype": "text/x-python",
   "name": "python",
   "nbconvert_exporter": "python",
   "pygments_lexer": "ipython2",
   "version": "2.7.6"
  }
 },
 "nbformat": 4,
 "nbformat_minor": 0
}
