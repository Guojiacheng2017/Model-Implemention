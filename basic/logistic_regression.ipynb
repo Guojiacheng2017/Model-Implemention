{
 "cells": [
  {
   "cell_type": "code",
   "execution_count": 23,
   "metadata": {
    "collapsed": true
   },
   "outputs": [],
   "source": [
    "from sklearn.model_selection import train_test_split\n",
    "from sklearn.metrics import accuracy_score\n",
    "\n",
    "from sklearn.linear_model import LogisticRegression\n",
    "from sklearn.discriminant_analysis import LinearDiscriminantAnalysis\n",
    "from sklearn.discriminant_analysis import QuadraticDiscriminantAnalysis     # not in the course\n",
    "\n",
    "import numpy as np\n",
    "import pandas as pd\n",
    "\n",
    "# Load data and split in train and test sets\n",
    "spam_data = pd.read_csv('../data/spam.csv', delimiter=' ', header=None)\n",
    "# spam_label = pd.read_csv('../data/spam_label.csv', header=None)\n",
    "X_train, X_test, y_train, y_test = train_test_split(spam_data.iloc[:, :-1], spam_data.iloc[:, -1], test_size=0.2, random_state=42, shuffle=True)   # ---1\n",
    "# X_train, X_test, y_train, y_test = train_test_split(spam_data, spam_label, test_size=0.2, random_state=42, shuffle=True)   # ---2\n",
    "#\n",
    "# X_train, X_test, y_train, y_test = train_test_split()\n"
   ]
  },
  {
   "cell_type": "code",
   "execution_count": 27,
   "outputs": [],
   "source": [
    "import matplotlib.pyplot as plt"
   ],
   "metadata": {
    "collapsed": false
   }
  },
  {
   "cell_type": "code",
   "execution_count": 24,
   "outputs": [
    {
     "name": "stdout",
     "output_type": "stream",
     "text": [
      "        0     1     2    3     4     5     6     7     8     9   ...   47  \\\n",
      "1370  0.09  0.00  0.09  0.0  0.39  0.09  0.09  0.00  0.19  0.29  ...  0.0   \n",
      "3038  0.00  0.00  0.00  0.0  0.00  0.00  0.00  0.00  0.00  0.00  ...  0.0   \n",
      "2361  0.00  0.00  2.43  0.0  0.00  0.00  0.00  0.00  0.27  0.00  ...  0.0   \n",
      "156   0.00  0.00  0.00  0.0  1.31  0.00  1.31  1.31  1.31  1.31  ...  0.0   \n",
      "2526  0.00  0.00  0.00  0.0  0.00  0.00  0.00  0.00  0.00  0.00  ...  0.0   \n",
      "...    ...   ...   ...  ...   ...   ...   ...   ...   ...   ...  ...  ...   \n",
      "4426  0.00  0.00  0.00  0.0  0.00  0.00  0.00  0.00  0.00  0.00  ...  0.0   \n",
      "466   0.00  0.23  0.00  0.0  0.23  0.47  0.00  0.47  0.00  0.95  ...  0.0   \n",
      "3092  0.00  0.00  0.00  0.0  1.49  0.00  0.00  0.00  0.00  0.00  ...  0.0   \n",
      "3772  0.00  0.23  0.00  0.0  0.00  0.23  0.00  0.46  0.00  0.00  ...  0.0   \n",
      "860   0.10  0.00  0.41  0.0  0.10  0.10  0.10  0.52  0.10  0.00  ...  0.0   \n",
      "\n",
      "         48     49     50     51     52    53      54   55    56  \n",
      "1370  0.000  0.139  0.000  0.310  0.155  0.00   6.813  494  1458  \n",
      "3038  0.124  0.124  0.000  0.000  0.000  0.00   1.800    8    45  \n",
      "2361  0.000  0.344  0.000  0.000  0.000  0.00   2.319   12   167  \n",
      "156   0.000  0.000  0.000  0.117  0.117  0.00  48.500  186   291  \n",
      "2526  0.000  0.000  0.000  0.000  0.000  0.00   2.307    8    30  \n",
      "...     ...    ...    ...    ...    ...   ...     ...  ...   ...  \n",
      "4426  0.000  0.122  0.081  0.000  0.000  0.04   3.891   70   323  \n",
      "466   0.000  0.121  0.040  0.000  0.040  0.00   3.780   55   189  \n",
      "3092  0.000  0.229  0.000  0.000  0.000  0.00   2.333   10    49  \n",
      "3772  0.063  0.063  0.000  0.159  0.000  0.00   1.616   13   173  \n",
      "860   0.000  0.048  0.000  0.016  0.064  0.00   1.915   29   339  \n",
      "\n",
      "[3680 rows x 57 columns]\n",
      "1370    1\n",
      "3038    0\n",
      "2361    0\n",
      "156     1\n",
      "2526    0\n",
      "       ..\n",
      "4426    0\n",
      "466     1\n",
      "3092    0\n",
      "3772    0\n",
      "860     1\n",
      "Name: 57, Length: 3680, dtype: int64\n"
     ]
    }
   ],
   "source": [
    "print(X_train)\n",
    "print(y_train)"
   ],
   "metadata": {
    "collapsed": false
   }
  },
  {
   "cell_type": "markdown",
   "source": [
    "### Linear Discriminant Analysis"
   ],
   "metadata": {
    "collapsed": false
   }
  },
  {
   "cell_type": "code",
   "execution_count": 25,
   "outputs": [
    {
     "name": "stdout",
     "output_type": "stream",
     "text": [
      "LDA accuracy: 0.8816503800217155\n"
     ]
    }
   ],
   "source": [
    "lda_model = LinearDiscriminantAnalysis().fit(X_train, y_train)\n",
    "lda_preds = lda_model.predict(X_test)\n",
    "lda_acc = accuracy_score(y_test, lda_preds)\n",
    "print(\"LDA accuracy: {}\".format(lda_acc))"
   ],
   "metadata": {
    "collapsed": false
   }
  },
  {
   "cell_type": "code",
   "execution_count": null,
   "outputs": [],
   "source": [
    "# Plotting\n",
    "plt.plot()"
   ],
   "metadata": {
    "collapsed": false
   }
  },
  {
   "cell_type": "markdown",
   "source": [
    "### Quadratic Discriminant Analysis"
   ],
   "metadata": {
    "collapsed": false
   }
  },
  {
   "cell_type": "code",
   "execution_count": 26,
   "outputs": [
    {
     "name": "stdout",
     "output_type": "stream",
     "text": [
      "QDA accuracy: 0.8371335504885994\n"
     ]
    }
   ],
   "source": [
    "qda_model = QuadraticDiscriminantAnalysis().fit(X_train, y_train)\n",
    "qda_preds = qda_model.predict(X_test)\n",
    "qda_acc = accuracy_score(y_test, qda_preds)\n",
    "print(\"QDA accuracy: {}\". format(qda_acc))"
   ],
   "metadata": {
    "collapsed": false
   }
  },
  {
   "cell_type": "markdown",
   "source": [
    "### Regularized Discriminant Analysis"
   ],
   "metadata": {
    "collapsed": false
   }
  },
  {
   "cell_type": "code",
   "execution_count": 29,
   "outputs": [
    {
     "name": "stdout",
     "output_type": "stream",
     "text": [
      "RDA accuracy: 0.8675352877307275\n"
     ]
    }
   ],
   "source": [
    "rda_model = LinearDiscriminantAnalysis(solver=\"lsqr\", shrinkage='auto').fit(X_train, y_train)\n",
    "rda_preds = rda_model.predict(X_test)\n",
    "rda_acc = accuracy_score(y_test, rda_preds)\n",
    "print(\"RDA accuracy: {}\".format(rda_acc))"
   ],
   "metadata": {
    "collapsed": false
   }
  },
  {
   "cell_type": "markdown",
   "source": [
    "### Logistic Regression"
   ],
   "metadata": {
    "collapsed": false
   }
  },
  {
   "cell_type": "code",
   "execution_count": 30,
   "outputs": [
    {
     "name": "stdout",
     "output_type": "stream",
     "text": [
      "Logistic accuracy: 0.9283387622149837\n"
     ]
    },
    {
     "name": "stderr",
     "output_type": "stream",
     "text": [
      "/Users/bling/opt/anaconda3/envs/cv/lib/python3.9/site-packages/sklearn/linear_model/_logistic.py:814: ConvergenceWarning: lbfgs failed to converge (status=1):\n",
      "STOP: TOTAL NO. of ITERATIONS REACHED LIMIT.\n",
      "\n",
      "Increase the number of iterations (max_iter) or scale the data as shown in:\n",
      "    https://scikit-learn.org/stable/modules/preprocessing.html\n",
      "Please also refer to the documentation for alternative solver options:\n",
      "    https://scikit-learn.org/stable/modules/linear_model.html#logistic-regression\n",
      "  n_iter_i = _check_optimize_result(\n"
     ]
    }
   ],
   "source": [
    "lr_model = LogisticRegression().fit(X_train, y_train)\n",
    "lr_preds = lr_model.predict(X_test)\n",
    "lr_acc = accuracy_score(y_test, lr_preds)\n",
    "print(\"Logistic accuracy: {}\".format(lr_acc))"
   ],
   "metadata": {
    "collapsed": false
   }
  },
  {
   "cell_type": "code",
   "execution_count": null,
   "outputs": [],
   "source": [],
   "metadata": {
    "collapsed": false
   }
  }
 ],
 "metadata": {
  "kernelspec": {
   "display_name": "Python 3",
   "language": "python",
   "name": "python3"
  },
  "language_info": {
   "codemirror_mode": {
    "name": "ipython",
    "version": 2
   },
   "file_extension": ".py",
   "mimetype": "text/x-python",
   "name": "python",
   "nbconvert_exporter": "python",
   "pygments_lexer": "ipython2",
   "version": "2.7.6"
  }
 },
 "nbformat": 4,
 "nbformat_minor": 0
}
