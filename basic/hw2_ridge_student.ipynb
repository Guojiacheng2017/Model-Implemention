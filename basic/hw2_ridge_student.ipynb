{
 "cells": [
  {
   "cell_type": "code",
   "execution_count": null,
   "metadata": {
    "collapsed": true
   },
   "outputs": [],
   "source": [
    "import matplotlib.pyplot as plt\n",
    "\n",
    "from setup_problem import load_problem\n",
    "from ridge_regression import *"
   ]
  },
  {
   "cell_type": "markdown",
   "source": [
    "### Data Loading\n",
    "Load the data using  *load_problem* function.<br>\n",
    "Use the *featurize* function to map a 1d input space to a d-dimensional feature space (d=400 in our case)"
   ],
   "metadata": {
    "collapsed": false
   }
  },
  {
   "cell_type": "code",
   "execution_count": null,
   "outputs": [],
   "source": [
    "lasso_data_fname = \"../data/lasso_data.pickle\"\n",
    "x_train, y_train, x_val, y_val, target_fn, coefs_true, featurize = load_problem(lasso_data_fname)\n",
    "X_train = featurize(x_train)\n",
    "X_val = featurize(x_val)"
   ],
   "metadata": {
    "collapsed": false
   }
  },
  {
   "cell_type": "markdown",
   "source": [
    "## Visualize the design matrix of the featurized data"
   ],
   "metadata": {
    "collapsed": false
   }
  },
  {
   "cell_type": "code",
   "execution_count": null,
   "outputs": [],
   "source": [
    "fig, ax = plt.subplots()\n",
    "ax.imshow(X_train)\n",
    "ax.set_title(\"Design Matrix: Color is Feature Value\")\n",
    "ax.set_xlabel(\"Feature Index\")\n",
    "ax.set_ylabel(\"Example Number\")\n",
    "plt.show()"
   ],
   "metadata": {
    "collapsed": false
   }
  },
  {
   "cell_type": "markdown",
   "source": [
    "We have implemented Ridge Regression in the module **ridge_regression**. You can use the provided ridge regression class or the ridge regression from **sklearn**. Below we compare the result of our ridge regression model with the one from **sklearn**."
   ],
   "metadata": {
    "collapsed": false
   }
  },
  {
   "cell_type": "code",
   "execution_count": null,
   "outputs": [],
   "source": [
    "# get the SSE between our ridge coefficients and sklearn ridge coefficients\n",
    "compare_our_ridge_with_sklearn(X_train, y_train, l2_reg = 0.1)"
   ],
   "metadata": {
    "collapsed": false
   }
  },
  {
   "cell_type": "markdown",
   "source": [
    "Now we can run ridge regression on the provided training dataset. <br>\n",
    "Choose the $\\lambda$ that minimizes the empirical risk (i.e.  the average square loss) on the validation set.<br> Include a table of the parameter values you tried and the validation performance for each. <br>(10 points)"
   ],
   "metadata": {
    "collapsed": false
   }
  },
  {
   "cell_type": "code",
   "execution_count": null,
   "outputs": [],
   "source": [],
   "metadata": {
    "collapsed": false
   }
  },
  {
   "cell_type": "code",
   "execution_count": null,
   "outputs": [],
   "source": [],
   "metadata": {
    "collapsed": false
   }
  },
  {
   "cell_type": "code",
   "execution_count": null,
   "outputs": [],
   "source": [],
   "metadata": {
    "collapsed": false
   }
  },
  {
   "cell_type": "code",
   "execution_count": null,
   "outputs": [],
   "source": [],
   "metadata": {
    "collapsed": false
   }
  }
 ],
 "metadata": {
  "kernelspec": {
   "display_name": "Python 3",
   "language": "python",
   "name": "python3"
  },
  "language_info": {
   "codemirror_mode": {
    "name": "ipython",
    "version": 2
   },
   "file_extension": ".py",
   "mimetype": "text/x-python",
   "name": "python",
   "nbconvert_exporter": "python",
   "pygments_lexer": "ipython2",
   "version": "2.7.6"
  }
 },
 "nbformat": 4,
 "nbformat_minor": 0
}
