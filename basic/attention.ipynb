{
 "cells": [
  {
   "cell_type": "code",
   "execution_count": 1,
   "metadata": {},
   "outputs": [],
   "source": [
    "import torch\n",
    "import torch.nn as nn\n",
    "import pandas as pd\n",
    "import numpy"
   ]
  },
  {
   "cell_type": "code",
   "execution_count": null,
   "metadata": {},
   "outputs": [],
   "source": [
    "def transpose_qkv(X, num_heads):\n",
    "    \"\"\"为了多注意力头的并行计算而变换形状\"\"\"\n",
    "    ## batch_size here means input length of the matrix\n",
    "    \n",
    "    # !!! X.shape[0] -> dimension of embedding, X.shape[1] -> dimension of one weigth matrix\n",
    "\n",
    "    # 输入X的形状:(batch_size，查询或者“键－值”对的个数，num_hiddens)\n",
    "    # 输出X的形状:(batch_size，查询或者“键－值”对的个数，num_heads，num_hiddens/num_heads)\n",
    "    # X = X.reshape(X.shape[0], X.shape[1], num_heads, -1)\n",
    "    X = X.reshape(X.shape[0], num_heads, -1)\n",
    "\n",
    "    # 输出X的形状:(batch_size，num_heads，查询或者“键－值”对的个数, num_hiddens/num_heads)\n",
    "    X = X.permute(0, 2, 1, 3)\n",
    "\n",
    "    # 最终输出的形状:(batch_size*num_heads,查询或者“键－值”对的个数, num_hiddens/num_heads)\n",
    "    return X.reshape(-1, X.shape[2], X.shape[3])\n",
    "\n",
    "def transpose_output(X, num_heads):\n",
    "    \"\"\"逆转transpose_qkv函数的操作\"\"\"\n",
    "    X = X.reshape(-1, num_heads, X.shape[1], X.shape[2])\n",
    "    X = X.permute(0, 2, 1, 3)\n",
    "    return X.reshape(X.shape[0], X.shape[1], -1)"
   ]
  },
  {
   "cell_type": "code",
   "execution_count": null,
   "metadata": {},
   "outputs": [],
   "source": [
    "class Attention(nn.Module):\n",
    "    def __init__(self, dropout) -> None:\n",
    "        super(Attention, self).__init__()\n",
    "        self.dropout = nn.Dropout(p=dropout)\n",
    "    \n",
    "    def forward(self, query, key, value, ):\n",
    "\n",
    "class MultiheadAttention(nn.Module):\n",
    "    def __init__(self, querySize, keySize, valueSize, numHiddens, numHeads, dropout, bias=False, **kwargs) -> None:\n",
    "        super(MultiheadAttention, self).__init__(**kwargs)\n",
    "        self.num_heads = numHeads\n",
    "        # self.attention = self.selfAttention()\n",
    "        self.wq = nn.Linear(in_features=querySize, out_features=numHiddens, bias=bias)\n",
    "        self.wk = nn.Linear(in_features=keySize, out_features=numHiddens, bias=bias)\n",
    "        self.wv = nn.Linear(in_features=valueSize, out_features=numHiddens, bias=bias)\n",
    "        self.wo = nn.Linear(in_features=numHiddens, out_features=numHiddens, bias=bias)\n",
    "        "
   ]
  },
  {
   "cell_type": "code",
   "execution_count": null,
   "metadata": {},
   "outputs": [],
   "source": []
  },
  {
   "cell_type": "code",
   "execution_count": null,
   "metadata": {},
   "outputs": [],
   "source": []
  },
  {
   "cell_type": "markdown",
   "metadata": {},
   "source": [
    "##### Encoder Structure Mimic"
   ]
  },
  {
   "cell_type": "code",
   "execution_count": 17,
   "metadata": {},
   "outputs": [],
   "source": [
    "class Encoder(nn.Module):\n",
    "    def __init__(self, inputSize, hiddenDim, numLayers=6) -> None:\n",
    "        super(Encoder, self).__init__()\n",
    "        # self.embedding = self.token_embedding + self.posi_embedding + self.seg_embedding\n",
    "        self.encoder = nn.ModuleList([EncoderBlock(vecLength=inputSize, hiddenDim=hiddenDim) for _ in range(numLayers)])\n",
    "    \n",
    "    def __forward__(self, matrix):\n",
    "        return self.encoder(matrix)\n",
    "\n",
    "# device='mps'\n",
    "class EncoderBlock(nn.Module):\n",
    "    # without positional encoding\n",
    "    def __init__(self, vecLength=512, dimension=768, hiddenDim=768, bias=True) -> None:\n",
    "        \"\"\"\n",
    "            vecLength   => the input length of sentence or sequence\n",
    "            dimension   => the dimension of one vector\n",
    "        \"\"\"\n",
    "        super(EncoderBlock, self).__init__()\n",
    "        self.WQ = nn.Linear(dimension, hiddenDim, bias=bias)\n",
    "        self.WV = nn.Linear(dimension, hiddenDim, bias=bias)\n",
    "        self.WK = nn.Linear(dimension, hiddenDim, bias=bias)\n",
    "        # self.WO = nn.Linear(length, length)\n",
    "        self.d = hiddenDim\n",
    "        self.layerNorm = nn.LayerNorm(hiddenDim)\n",
    "        self.feedForward = nn.ModuleList([\n",
    "            nn.Linear(hiddenDim, 1024),\n",
    "            nn.Linear(1024, dimension)\n",
    "        ])\n",
    "\n",
    "    def __forward__(self, matrix):\n",
    "        self.q = self.WQ(matrix)\n",
    "        self.k = self.WK(matrix)\n",
    "        self.v = self.WV(matrix)\n",
    "        out = self.selfAttention(self.q, self.k, self.v)\n",
    "        out = self.layerNorm(out)\n",
    "        out = self.feedForward(out)\n",
    "        out = self.layerNorm(out)\n",
    "        return out\n",
    "\n",
    "    def selfAttention(self, Q, K, V, scaling=None):\n",
    "        if not scaling:\n",
    "            import math\n",
    "            scaling = math.sqrt(self.d)\n",
    "        queryKey = torch.matmul(Q, K.T)\n",
    "        attMatrix = (torch.softmax(queryKey) / scaling)\n",
    "        return torch.matmul(attMatrix, V)"
   ]
  },
  {
   "cell_type": "code",
   "execution_count": 18,
   "metadata": {},
   "outputs": [
    {
     "name": "stdout",
     "output_type": "stream",
     "text": [
      "<bound method Module.parameters of Encoder(\n",
      "  (encoder): ModuleList(\n",
      "    (0-5): 6 x EncoderBlock(\n",
      "      (WQ): Linear(in_features=768, out_features=768, bias=True)\n",
      "      (WV): Linear(in_features=768, out_features=768, bias=True)\n",
      "      (WK): Linear(in_features=768, out_features=768, bias=True)\n",
      "      (layerNorm): LayerNorm((768,), eps=1e-05, elementwise_affine=True)\n",
      "      (feedForward): ModuleList(\n",
      "        (0): Linear(in_features=768, out_features=1024, bias=True)\n",
      "        (1): Linear(in_features=1024, out_features=768, bias=True)\n",
      "      )\n",
      "    )\n",
      "  )\n",
      ")>\n"
     ]
    }
   ],
   "source": [
    "encoderTrans = Encoder(inputSize=512, hiddenDim=768)\n",
    "print(encoderTrans.parameters)"
   ]
  },
  {
   "cell_type": "code",
   "execution_count": null,
   "metadata": {},
   "outputs": [],
   "source": []
  },
  {
   "cell_type": "markdown",
   "metadata": {},
   "source": [
    "##### KB"
   ]
  },
  {
   "cell_type": "code",
   "execution_count": 21,
   "metadata": {},
   "outputs": [
    {
     "name": "stdout",
     "output_type": "stream",
     "text": [
      "tensor([[[0.8798, 0.3458, 0.6803],\n",
      "         [0.8010, 0.9066, 0.7542]],\n",
      "\n",
      "        [[0.7083, 0.1414, 0.2849],\n",
      "         [0.7246, 0.5032, 0.6088]]])\n",
      "tensor([[[[0.8798],\n",
      "          [0.3458],\n",
      "          [0.6803]],\n",
      "\n",
      "         [[0.8010],\n",
      "          [0.9066],\n",
      "          [0.7542]]],\n",
      "\n",
      "\n",
      "        [[[0.7083],\n",
      "          [0.1414],\n",
      "          [0.2849]],\n",
      "\n",
      "         [[0.7246],\n",
      "          [0.5032],\n",
      "          [0.6088]]]])\n"
     ]
    }
   ],
   "source": [
    "## how the nn work\n",
    "# a = nn.Linear(2, 3)\n",
    "# b = torch.rand(1, 2, device='cpu')\n",
    "# a(b)\n",
    "\n",
    "## Matrix Multiplication\n",
    "# torch.rand(1, 2) * torch.rand(2, 1)\n",
    "# torch.matmul(torch.rand(1, 2), torch.rand(2, 1))\n",
    "\n",
    "\n",
    "## reshape the multihead\n",
    "# input matrix size => batch_size * input length * vector_size\n",
    "num_heads = 3\n",
    "batch_size = 2\n",
    "inputLen = 2\n",
    "vecLen = 3\n",
    "weight_matrix = torch.rand(batch_size, inputLen, vecLen)\n",
    "print(weight_matrix)\n",
    "matrix = weight_matrix.reshape(weight_matrix.shape[0], weight_matrix.shape[1], num_heads, -1)\n",
    "print(matrix)"
   ]
  },
  {
   "cell_type": "code",
   "execution_count": null,
   "metadata": {},
   "outputs": [],
   "source": []
  }
 ],
 "metadata": {
  "kernelspec": {
   "display_name": "llm",
   "language": "python",
   "name": "python3"
  },
  "language_info": {
   "codemirror_mode": {
    "name": "ipython",
    "version": 3
   },
   "file_extension": ".py",
   "mimetype": "text/x-python",
   "name": "python",
   "nbconvert_exporter": "python",
   "pygments_lexer": "ipython3",
   "version": "3.11.9"
  }
 },
 "nbformat": 4,
 "nbformat_minor": 2
}
