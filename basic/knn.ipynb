{
 "cells": [
  {
   "cell_type": "markdown",
   "source": [
    "## I - KNN for Iris flowers classification"
   ],
   "metadata": {
    "collapsed": false
   }
  },
  {
   "cell_type": "code",
   "execution_count": 3,
   "outputs": [],
   "source": [
    "# import modules\n",
    "import matplotlib.pyplot as plt\n",
    "import numpy as np\n",
    "from sklearn.neighbors import KNeighborsClassifier\n",
    "from sklearn.model_selection import train_test_split\n",
    "from sklearn import datasets as ds\n",
    "from sklearn.metrics import accuracy_score"
   ],
   "metadata": {
    "collapsed": false
   }
  },
  {
   "cell_type": "code",
   "execution_count": 4,
   "outputs": [],
   "source": [
    "# load iris dataset\n",
    "iris = ds.load_iris()"
   ],
   "metadata": {
    "collapsed": false
   }
  },
  {
   "cell_type": "code",
   "execution_count": 5,
   "outputs": [
    {
     "data": {
      "text/plain": "(150, 4)"
     },
     "execution_count": 5,
     "metadata": {},
     "output_type": "execute_result"
    }
   ],
   "source": [
    "# assign iris features to X, an array of shape (150,4)\n",
    "# assign iris labels to y, an array of shape (150,)\n",
    "X = iris['data']\n",
    "y = iris['target']\n",
    "X.shape"
   ],
   "metadata": {
    "collapsed": false
   }
  },
  {
   "cell_type": "markdown",
   "source": [
    "## (a) calculate elements in each class"
   ],
   "metadata": {
    "collapsed": false
   }
  },
  {
   "cell_type": "code",
   "execution_count": null,
   "outputs": [],
   "source": [
    "# calculate elements in each class\n",
    "# print out the result\n",
    "## to do\n",
    "tp, count = np.unique(y, return_counts=True)\n",
    "print(len(tp), count)"
   ],
   "metadata": {
    "collapsed": false
   }
  },
  {
   "cell_type": "markdown",
   "source": [
    "## (b) build a KNeighborsClassifier with k=1"
   ],
   "metadata": {
    "collapsed": false
   }
  },
  {
   "cell_type": "code",
   "execution_count": null,
   "outputs": [],
   "source": [
    "# initialize the knn model\n",
    "model_knn = KNeighborsClassifier(n_neighbors=1)\n",
    "model_knn.fit(X,y)"
   ],
   "metadata": {
    "collapsed": false
   }
  },
  {
   "cell_type": "code",
   "execution_count": null,
   "outputs": [],
   "source": [
    "# calculate prediction accuracy\n",
    "# print out the accuracy\n",
    "## to do\n",
    "y_predicted = model_knn.predict(X)\n",
    "corr_pred = 0;\n",
    "for index,i in enumerate(y_predicted):\n",
    "    if i == y[index]:\n",
    "        corr_pred += 1\n",
    "\n",
    "# i = 0\n",
    "# while i < 150:\n",
    "#     if y_predicted[i] == y[i]:\n",
    "#         corr_pred += 1\n",
    "#     i += 1\n",
    "\n",
    "print(corr_pred/X.shape[0]) # corr_pred /\n",
    "# print(1 - np.mean(np.power(y_predicted-y, 2)))\n",
    "# def model_mse(model, x, y):\n",
    "#     predictions = model_knn.predict(x)\n",
    "#     return np.mean(np.power(y_predicted-y, 2)"
   ],
   "metadata": {
    "collapsed": false
   }
  },
  {
   "cell_type": "markdown",
   "source": [
    "## (c) find optimal value of k"
   ],
   "metadata": {
    "collapsed": false
   }
  },
  {
   "cell_type": "code",
   "execution_count": null,
   "outputs": [],
   "source": [
    "# split the dataset into training and test\n",
    "X_train, X_test, y_train, y_test = train_test_split(X, y, test_size=0.5, shuffle=True, random_state=0)"
   ],
   "metadata": {
    "collapsed": false
   }
  },
  {
   "cell_type": "code",
   "execution_count": null,
   "outputs": [],
   "source": [
    "# try different value of k from 1 to 50\n",
    "K = 50\n",
    "train_accu = np.zeros(50)\n",
    "test_accu = np.zeros(50)\n",
    "for i in range(1,K+1):\n",
    "    # initialize the model\n",
    "    # fit the data\n",
    "    # store training accuracy in train_accu\n",
    "    # store validation accuracy in test_acc\n",
    "    ## to do\n",
    "    model_knn = KNeighborsClassifier(n_neighbors=i)\n",
    "    model_knn.fit(X_train,y_train)\n",
    "    yTest_predicted = model_knn.predict(X_test)\n",
    "    yTrain_predicted = model_knn.predict(X_train)\n",
    "#     test_accu[i - 1] = 1 - np.mean(np.power(yTest_predicted-y_test, 2))\n",
    "    test_accu[i - 1] = accuracy_score(y_test, yTest_predicted, normalize=False)\n",
    "#     train_accu[i - 1] = 1 - np.mean(np.power(yTrain_predicted-y_train, 2))\n",
    "    train_accu[i - 1] = accuracy_score(y_train, yTrain_predicted, normalize=False)\n",
    "    pass"
   ],
   "metadata": {
    "collapsed": false
   }
  },
  {
   "cell_type": "code",
   "execution_count": null,
   "outputs": [],
   "source": [
    "# plot the training accuracy and test accuracy against k\n",
    "plt.figure()\n",
    "plt.xlabel('k')\n",
    "plt.ylabel('Accuracy (%)')\n",
    "x_range = np.linspace(1, K, num=K)\n",
    "plt.plot(x_range, train_accu*100, label='training')\n",
    "plt.plot(x_range, test_accu*100, label='test')\n",
    "plt.legend()"
   ],
   "metadata": {
    "collapsed": false
   }
  },
  {
   "cell_type": "code",
   "execution_count": null,
   "outputs": [],
   "source": [
    "# find the optimal k value\n",
    "# print out the optimal k\n",
    "## to do\n",
    "k = np.argmax(test_accu)\n",
    "print(k)"
   ],
   "metadata": {
    "collapsed": false
   }
  },
  {
   "cell_type": "markdown",
   "source": [
    "## (d) predict a new sample"
   ],
   "metadata": {
    "collapsed": false
   }
  },
  {
   "cell_type": "code",
   "execution_count": null,
   "outputs": [],
   "source": [
    "# check the order of the features\n",
    "iris['feature_names']"
   ],
   "metadata": {
    "collapsed": false
   }
  },
  {
   "cell_type": "code",
   "execution_count": null,
   "outputs": [],
   "source": [
    "# match the input values with the feature names\n",
    "## to do\n",
    "x = [[3.8,5.0,1.2,4.1]]"
   ],
   "metadata": {
    "collapsed": false
   }
  },
  {
   "cell_type": "code",
   "execution_count": null,
   "outputs": [],
   "source": [
    "# make prediction\n",
    "# print out the prediction result\n",
    "## to do\n",
    "model_knn = KNeighborsClassifier(n_neighbors=k)\n",
    "model_knn.fit(X_train,y_train)\n",
    "y_predicted = model_knn.predict(x)\n",
    "print(iris.target_names[y_predicted[0]])\n",
    "# print(y_predicted)"
   ],
   "metadata": {
    "collapsed": false
   }
  }
 ],
 "metadata": {
  "kernelspec": {
   "display_name": "Python 3",
   "language": "python",
   "name": "python3"
  },
  "language_info": {
   "codemirror_mode": {
    "name": "ipython",
    "version": 2
   },
   "file_extension": ".py",
   "mimetype": "text/x-python",
   "name": "python",
   "nbconvert_exporter": "python",
   "pygments_lexer": "ipython2",
   "version": "2.7.6"
  }
 },
 "nbformat": 4,
 "nbformat_minor": 0
}
