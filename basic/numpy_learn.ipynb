{
 "cells": [
  {
   "cell_type": "markdown",
   "source": [
    "### NumPy 自测\n",
    "https://zhuanlan.zhihu.com/p/428297522"
   ],
   "metadata": {
    "collapsed": false
   }
  },
  {
   "cell_type": "markdown",
   "source": [
    "##### 将 NumPy 导入为 np，并查看版本"
   ],
   "metadata": {
    "collapsed": false
   }
  },
  {
   "cell_type": "code",
   "execution_count": 1,
   "metadata": {
    "collapsed": true,
    "ExecuteTime": {
     "start_time": "2023-04-15T00:17:57.137472Z",
     "end_time": "2023-04-15T00:17:57.292408Z"
    }
   },
   "outputs": [
    {
     "data": {
      "text/plain": "'1.23.5'"
     },
     "execution_count": 1,
     "metadata": {},
     "output_type": "execute_result"
    }
   ],
   "source": [
    "import numpy as np\n",
    "np.__version__"
   ]
  },
  {
   "cell_type": "markdown",
   "source": [
    "##### 创建数字从 0 到 9 的 1 维数组"
   ],
   "metadata": {
    "collapsed": false
   }
  },
  {
   "cell_type": "code",
   "execution_count": 10,
   "outputs": [
    {
     "data": {
      "text/plain": "array([0, 1, 2, 3, 4, 5, 6, 7, 8, 9])"
     },
     "execution_count": 10,
     "metadata": {},
     "output_type": "execute_result"
    }
   ],
   "source": [
    "# a = np.array([0, 1, 2, 3, 4, 5, 6, 7, 8, 9])\n",
    "# a = np.linspace(start=0, stop=9, num=10)\n",
    "a = np.arange(start=0, stop=10, step=1)\n",
    "a"
   ],
   "metadata": {
    "collapsed": false,
    "ExecuteTime": {
     "start_time": "2023-04-14T23:58:14.285155Z",
     "end_time": "2023-04-14T23:58:14.293137Z"
    }
   }
  },
  {
   "cell_type": "markdown",
   "source": [
    "##### 创建所有 True 的 3×3 NumPy 数组"
   ],
   "metadata": {
    "collapsed": false
   }
  },
  {
   "cell_type": "code",
   "execution_count": 12,
   "outputs": [
    {
     "data": {
      "text/plain": "array([[ True,  True,  True],\n       [ True,  True,  True],\n       [ True,  True,  True]])"
     },
     "execution_count": 12,
     "metadata": {},
     "output_type": "execute_result"
    }
   ],
   "source": [
    "# np.bool((3, 3), True)\n",
    "np.ones((3, 3), dtype=bool)"
   ],
   "metadata": {
    "collapsed": false,
    "ExecuteTime": {
     "start_time": "2023-04-15T00:03:12.103680Z",
     "end_time": "2023-04-15T00:03:12.140825Z"
    }
   }
  },
  {
   "cell_type": "markdown",
   "source": [
    "##### 从 arr 中提取所有奇数"
   ],
   "metadata": {
    "collapsed": false
   }
  },
  {
   "cell_type": "code",
   "execution_count": 16,
   "outputs": [
    {
     "data": {
      "text/plain": "array([2, 3, 4, 5, 6, 7, 8, 9])"
     },
     "execution_count": 16,
     "metadata": {},
     "output_type": "execute_result"
    }
   ],
   "source": [
    "arr = np.array([0, 1, 2, 3, 4, 5, 6, 7, 8, 9])\n",
    "# np.where(arr % 2 != 0, 1, 0)\n",
    "arr = arr[arr % 2 == 1]\n",
    "# arr = arr[arr > 1]\n",
    "arr"
   ],
   "metadata": {
    "collapsed": false,
    "ExecuteTime": {
     "start_time": "2023-04-15T00:09:32.871896Z",
     "end_time": "2023-04-15T00:09:32.878930Z"
    }
   }
  },
  {
   "cell_type": "markdown",
   "source": [
    "##### 将 arr 中的所有奇数替换成 -1"
   ],
   "metadata": {
    "collapsed": false
   }
  },
  {
   "cell_type": "code",
   "execution_count": 18,
   "outputs": [
    {
     "data": {
      "text/plain": "array([ 0, -1,  2, -1,  4, -1,  6, -1,  8, -1])"
     },
     "execution_count": 18,
     "metadata": {},
     "output_type": "execute_result"
    }
   ],
   "source": [
    "arr = np.array([0, 1, 2, 3, 4, 5, 6, 7, 8, 9])\n",
    "arr[arr % 2 == 1] = -1\n",
    "arr"
   ],
   "metadata": {
    "collapsed": false,
    "ExecuteTime": {
     "start_time": "2023-04-15T00:10:58.341387Z",
     "end_time": "2023-04-15T00:10:58.348993Z"
    }
   }
  },
  {
   "cell_type": "markdown",
   "source": [
    "##### 将 arr 中所有奇数替换成 -1，且不改变 arr"
   ],
   "metadata": {
    "collapsed": false
   }
  },
  {
   "cell_type": "code",
   "execution_count": 21,
   "outputs": [
    {
     "data": {
      "text/plain": "array([0, 1, 2, 3, 4, 5, 6, 7, 8, 9])"
     },
     "execution_count": 21,
     "metadata": {},
     "output_type": "execute_result"
    }
   ],
   "source": [
    "arr = np.array([0, 1, 2, 3, 4, 5, 6, 7, 8, 9])\n",
    "out = np.where(arr % 2 == 1, -1, arr)\n",
    "arr"
   ],
   "metadata": {
    "collapsed": false,
    "ExecuteTime": {
     "start_time": "2023-04-15T00:13:41.639365Z",
     "end_time": "2023-04-15T00:13:41.646691Z"
    }
   }
  },
  {
   "cell_type": "markdown",
   "source": [
    "##### 将 1 维数组转换成 2 维数组（两行）"
   ],
   "metadata": {
    "collapsed": false
   }
  },
  {
   "cell_type": "code",
   "execution_count": 32,
   "outputs": [
    {
     "name": "stdout",
     "output_type": "stream",
     "text": [
      "[[0 1 2 3 4]\n",
      " [5 6 7 8 9]]\n"
     ]
    }
   ],
   "source": [
    "arr = np.arange(10)\n",
    "# arr = arr.reshape(2, 5)\n",
    "arr = arr.reshape(2, -1)\n",
    "print(arr)"
   ],
   "metadata": {
    "collapsed": false,
    "ExecuteTime": {
     "start_time": "2023-04-15T00:16:04.658033Z",
     "end_time": "2023-04-15T00:16:04.665065Z"
    }
   }
  },
  {
   "cell_type": "markdown",
   "source": [
    "##### 垂直堆叠数组 a 和 b"
   ],
   "metadata": {
    "collapsed": false
   }
  },
  {
   "cell_type": "code",
   "execution_count": 2,
   "outputs": [
    {
     "name": "stdout",
     "output_type": "stream",
     "text": [
      "[[0 1 2 3 4]\n",
      " [5 6 7 8 9]] [[1 1 1 1 1]\n",
      " [1 1 1 1 1]]\n"
     ]
    }
   ],
   "source": [
    "a = np.arange(10).reshape(2,-1)\n",
    "b = np.repeat(1, 10).reshape(2,-1)\n",
    "print(a, b)"
   ],
   "metadata": {
    "collapsed": false,
    "ExecuteTime": {
     "start_time": "2023-04-15T00:18:07.057958Z",
     "end_time": "2023-04-15T00:18:07.063979Z"
    }
   }
  },
  {
   "cell_type": "markdown",
   "source": [
    "###### Method 1"
   ],
   "metadata": {
    "collapsed": false
   }
  },
  {
   "cell_type": "code",
   "execution_count": 5,
   "outputs": [
    {
     "name": "stdout",
     "output_type": "stream",
     "text": [
      "[[0 1 2 3 4]\n",
      " [5 6 7 8 9]\n",
      " [1 1 1 1 1]\n",
      " [1 1 1 1 1]]\n"
     ]
    }
   ],
   "source": [
    "arr = np.concatenate((a, b), axis=0)\n",
    "print(arr)"
   ],
   "metadata": {
    "collapsed": false,
    "ExecuteTime": {
     "start_time": "2023-04-15T00:19:32.036428Z",
     "end_time": "2023-04-15T00:19:32.041996Z"
    }
   }
  },
  {
   "cell_type": "markdown",
   "source": [
    "###### Method 2 & 3"
   ],
   "metadata": {
    "collapsed": false
   }
  },
  {
   "cell_type": "code",
   "execution_count": 11,
   "outputs": [
    {
     "data": {
      "text/plain": "array([[0, 1, 2, 3, 4],\n       [5, 6, 7, 8, 9],\n       [1, 1, 1, 1, 1],\n       [1, 1, 1, 1, 1]])"
     },
     "execution_count": 11,
     "metadata": {},
     "output_type": "execute_result"
    }
   ],
   "source": [
    "np.vstack([a, b])\n",
    "# np.hstack([a, b])\n",
    "np.r_[a, b]"
   ],
   "metadata": {
    "collapsed": false,
    "ExecuteTime": {
     "start_time": "2023-04-15T00:21:07.372563Z",
     "end_time": "2023-04-15T00:21:07.377388Z"
    }
   }
  },
  {
   "cell_type": "markdown",
   "source": [
    "##### 水平堆叠数组 a 和 b"
   ],
   "metadata": {
    "collapsed": false
   }
  },
  {
   "cell_type": "code",
   "execution_count": 15,
   "outputs": [
    {
     "data": {
      "text/plain": "array([[0, 1, 2, 3, 4, 1, 1, 1, 1, 1],\n       [5, 6, 7, 8, 9, 1, 1, 1, 1, 1]])"
     },
     "execution_count": 15,
     "metadata": {},
     "output_type": "execute_result"
    }
   ],
   "source": [
    "a = np.arange(10).reshape(2,-1)\n",
    "b = np.repeat(1, 10).reshape(2,-1)\n",
    "\n",
    "# (1) concatenate\n",
    "np.concatenate((a, b), axis=1)\n",
    "# (2) horizontal stack\n",
    "np.hstack([a, b])\n",
    "# (3) column_\n",
    "np.c_[a, b]"
   ],
   "metadata": {
    "collapsed": false,
    "ExecuteTime": {
     "start_time": "2023-04-15T00:23:10.109972Z",
     "end_time": "2023-04-15T00:23:10.115229Z"
    }
   }
  },
  {
   "cell_type": "markdown",
   "source": [
    "##### 在不使用硬编码的前提下创建以下模式。仅使用 NumPy 函数和以下输入数组 a\n",
    "a = np.array([1,2,3])\n",
    "#> array([1, 1, 1, 2, 2, 2, 3, 3, 3, 1, 2, 3, 1, 2, 3, 1, 2, 3])"
   ],
   "metadata": {
    "collapsed": false
   }
  },
  {
   "cell_type": "code",
   "execution_count": 23,
   "outputs": [
    {
     "data": {
      "text/plain": "array([1, 1, 1, 2, 2, 2, 3, 3, 3, 1, 2, 3, 1, 2, 3, 1, 2, 3])"
     },
     "execution_count": 23,
     "metadata": {},
     "output_type": "execute_result"
    }
   ],
   "source": [
    "a = np.array([1,2,3])\n",
    "# arr = np.concatenate((a,a,a), axis=0).reshape(3,3)\n",
    "# arr = np.r_[np.transpose(arr), arr]\n",
    "# print(arr.reshape(-1))\n",
    "\n",
    "\n",
    "## Standard Solution\n",
    "np.r_[np.repeat(a, 3), np.tile(a, 3)]"
   ],
   "metadata": {
    "collapsed": false,
    "ExecuteTime": {
     "start_time": "2023-04-15T00:31:19.155178Z",
     "end_time": "2023-04-15T00:31:19.160833Z"
    }
   }
  },
  {
   "cell_type": "markdown",
   "source": [
    "##### 获取数组 a 和 b 中的共同项"
   ],
   "metadata": {
    "collapsed": false
   }
  },
  {
   "cell_type": "code",
   "execution_count": 27,
   "outputs": [
    {
     "name": "stdout",
     "output_type": "stream",
     "text": [
      "[2 4]\n"
     ]
    }
   ],
   "source": [
    "a = np.array([1,2,3,2,3,4,3,4,5,6])\n",
    "b = np.array([7,2,10,2,7,4,9,4,9,8])\n",
    "\n",
    "# Standard Solution\n",
    "print(np.intersect1d(a, b))"
   ],
   "metadata": {
    "collapsed": false,
    "ExecuteTime": {
     "start_time": "2023-04-15T00:35:51.957223Z",
     "end_time": "2023-04-15T00:35:51.961659Z"
    }
   }
  },
  {
   "cell_type": "markdown",
   "source": [
    "##### 从数组 a 中移除出现在数组 b 中的所有项"
   ],
   "metadata": {
    "collapsed": false
   }
  },
  {
   "cell_type": "code",
   "execution_count": 35,
   "outputs": [
    {
     "name": "stdout",
     "output_type": "stream",
     "text": [
      "[1 2 3 4]\n"
     ]
    }
   ],
   "source": [
    "a = np.array([1,2,3,4,5])\n",
    "b = np.array([5,6,7,8,9])\n",
    "\n",
    "# Standard Solution\n",
    "print(np.setdiff1d(a, b))"
   ],
   "metadata": {
    "collapsed": false,
    "ExecuteTime": {
     "start_time": "2023-04-15T00:37:38.615700Z",
     "end_time": "2023-04-15T00:37:38.624709Z"
    }
   }
  },
  {
   "cell_type": "markdown",
   "source": [
    "##### 获取数组 a 和 b 中匹配元素的位置"
   ],
   "metadata": {
    "collapsed": false
   }
  },
  {
   "cell_type": "code",
   "execution_count": 37,
   "outputs": [
    {
     "name": "stdout",
     "output_type": "stream",
     "text": [
      "(array([1, 3, 5, 7]),)\n"
     ]
    }
   ],
   "source": [
    "a = np.array([1,2,3,2,3,4,3,4,5,6])\n",
    "b = np.array([7,2,10,2,7,4,9,4,9,8])\n",
    "\n",
    "# Standard Solution\n",
    "print(np.where(a==b))"
   ],
   "metadata": {
    "collapsed": false,
    "ExecuteTime": {
     "start_time": "2023-04-15T00:39:02.490297Z",
     "end_time": "2023-04-15T00:39:02.495103Z"
    }
   }
  },
  {
   "cell_type": "markdown",
   "source": [
    "##### 从数组 a 中提取 5 和 10 之间的所有项"
   ],
   "metadata": {
    "collapsed": false
   }
  },
  {
   "cell_type": "code",
   "execution_count": 45,
   "outputs": [
    {
     "name": "stdout",
     "output_type": "stream",
     "text": [
      "[ 5  6  7  8  9 10]\n"
     ]
    }
   ],
   "source": [
    "a = np.arange(15)\n",
    "# 1.\n",
    "idx = np.where((a >= 5) & (a <= 10))\n",
    "print(a[idx])\n",
    "\n",
    "# 2.\n",
    "# idx = np.where(np.logical_and(a>=5, a<=10))\n",
    "# print(a[idx])\n",
    "\n",
    "# 3.\n",
    "# a[(a>= 5)& (a<=10)]"
   ],
   "metadata": {
    "collapsed": false,
    "ExecuteTime": {
     "start_time": "2023-04-15T00:43:39.930630Z",
     "end_time": "2023-04-15T00:43:40.079044Z"
    }
   }
  },
  {
   "cell_type": "markdown",
   "source": [
    "##### !转换函数 maxx，使其从只能对比标量而变为对比两个数组"
   ],
   "metadata": {
    "collapsed": false
   }
  },
  {
   "cell_type": "code",
   "execution_count": 47,
   "outputs": [
    {
     "data": {
      "text/plain": "array([6., 7., 9., 8., 9., 7., 5.])"
     },
     "execution_count": 47,
     "metadata": {},
     "output_type": "execute_result"
    }
   ],
   "source": [
    "def maxx(x, y):\n",
    "    \"\"\"Get the maximum of two items\"\"\"\n",
    "    if x >= y:\n",
    "        return x\n",
    "    else:\n",
    "        return y\n",
    "\n",
    "\n",
    "pair_max = np.vectorize(maxx, otypes=[float])\n",
    "\n",
    "a = np.array([5, 7, 9, 8, 6, 4, 5])\n",
    "b = np.array([6, 3, 4, 8, 9, 7, 1])\n",
    "pair_max(a, b)"
   ],
   "metadata": {
    "collapsed": false,
    "ExecuteTime": {
     "start_time": "2023-04-15T00:47:32.163682Z",
     "end_time": "2023-04-15T00:47:32.168865Z"
    }
   }
  },
  {
   "cell_type": "markdown",
   "source": [
    "##### 在数组 arr 中交换列 1 和列 2"
   ],
   "metadata": {
    "collapsed": false
   }
  },
  {
   "cell_type": "code",
   "execution_count": 51,
   "outputs": [
    {
     "data": {
      "text/plain": "array([[1, 0, 2],\n       [4, 3, 5],\n       [7, 6, 8]])"
     },
     "execution_count": 51,
     "metadata": {},
     "output_type": "execute_result"
    }
   ],
   "source": [
    "arr = np.arange(9).reshape(3,3)\n",
    "arr[:, (1, 0, 2)]"
   ],
   "metadata": {
    "collapsed": false,
    "ExecuteTime": {
     "start_time": "2023-04-15T00:49:40.512309Z",
     "end_time": "2023-04-15T00:49:40.518995Z"
    }
   }
  },
  {
   "cell_type": "markdown",
   "source": [
    "##### 在数组 arr 中交换行 1 和行 2"
   ],
   "metadata": {
    "collapsed": false
   }
  },
  {
   "cell_type": "code",
   "execution_count": 53,
   "outputs": [
    {
     "data": {
      "text/plain": "array([[3, 4, 5],\n       [0, 1, 2],\n       [6, 7, 8]])"
     },
     "execution_count": 53,
     "metadata": {},
     "output_type": "execute_result"
    }
   ],
   "source": [
    "arr = np.arange(9).reshape(3,3)\n",
    "arr[(1, 0, 2), :]"
   ],
   "metadata": {
    "collapsed": false,
    "ExecuteTime": {
     "start_time": "2023-04-15T00:51:22.956282Z",
     "end_time": "2023-04-15T00:51:22.961158Z"
    }
   }
  },
  {
   "cell_type": "markdown",
   "source": [
    "##### 反转 2D 数组 arr 中的所有行"
   ],
   "metadata": {
    "collapsed": false
   }
  },
  {
   "cell_type": "code",
   "execution_count": 64,
   "outputs": [
    {
     "data": {
      "text/plain": "array([[6, 7, 8],\n       [3, 4, 5],\n       [0, 1, 2]])"
     },
     "execution_count": 64,
     "metadata": {},
     "output_type": "execute_result"
    }
   ],
   "source": [
    "arr = np.arange(9).reshape(3,3)\n",
    "arr[::-1]"
   ],
   "metadata": {
    "collapsed": false,
    "ExecuteTime": {
     "start_time": "2023-04-15T00:57:28.508971Z",
     "end_time": "2023-04-15T00:57:28.517317Z"
    }
   }
  },
  {
   "cell_type": "markdown",
   "source": [
    "##### 反转 2D 数组 arr 中的所有列"
   ],
   "metadata": {
    "collapsed": false
   }
  },
  {
   "cell_type": "code",
   "execution_count": 69,
   "outputs": [
    {
     "data": {
      "text/plain": "array([[2, 1, 0],\n       [5, 4, 3],\n       [8, 7, 6]])"
     },
     "execution_count": 69,
     "metadata": {},
     "output_type": "execute_result"
    }
   ],
   "source": [
    "arr = np.arange(9).reshape(3,3)\n",
    "arr[:, ::-1]"
   ],
   "metadata": {
    "collapsed": false,
    "ExecuteTime": {
     "start_time": "2023-04-15T00:58:27.702510Z",
     "end_time": "2023-04-15T00:58:27.711548Z"
    }
   }
  },
  {
   "cell_type": "code",
   "execution_count": 83,
   "outputs": [
    {
     "data": {
      "text/plain": "array([[2, 1, 0],\n       [5, 4, 3],\n       [8, 7, 6]])"
     },
     "execution_count": 83,
     "metadata": {},
     "output_type": "execute_result"
    }
   ],
   "source": [
    "# 列表推导式 list comprehension\n",
    "np.array([list(each[::-1]) for each in arr])"
   ],
   "metadata": {
    "collapsed": false,
    "ExecuteTime": {
     "start_time": "2023-04-15T01:19:42.925616Z",
     "end_time": "2023-04-15T01:19:42.935043Z"
    }
   }
  },
  {
   "cell_type": "markdown",
   "source": [
    "##### 创建一个形态为 5×3 的 2 维数组，包含 5 和 10 之间的随机十进制小数"
   ],
   "metadata": {
    "collapsed": false
   }
  },
  {
   "cell_type": "code",
   "execution_count": 85,
   "outputs": [
    {
     "ename": "TypeError",
     "evalue": "'module' object is not callable",
     "output_type": "error",
     "traceback": [
      "\u001B[0;31m---------------------------------------------------------------------------\u001B[0m",
      "\u001B[0;31mTypeError\u001B[0m                                 Traceback (most recent call last)",
      "Cell \u001B[0;32mIn[85], line 1\u001B[0m\n\u001B[0;32m----> 1\u001B[0m \u001B[43mnp\u001B[49m\u001B[38;5;241;43m.\u001B[39;49m\u001B[43mrandom\u001B[49m\u001B[43m(\u001B[49m\u001B[43m(\u001B[49m\u001B[38;5;241;43m5\u001B[39;49m\u001B[43m,\u001B[49m\u001B[43m \u001B[49m\u001B[38;5;241;43m3\u001B[39;49m\u001B[43m)\u001B[49m\u001B[43m)\u001B[49m\n",
      "\u001B[0;31mTypeError\u001B[0m: 'module' object is not callable"
     ]
    }
   ],
   "source": [
    "np.random.randn()"
   ],
   "metadata": {
    "collapsed": false
   }
  },
  {
   "cell_type": "code",
   "execution_count": null,
   "outputs": [],
   "source": [],
   "metadata": {
    "collapsed": false
   }
  }
 ],
 "metadata": {
  "kernelspec": {
   "display_name": "Python 3",
   "language": "python",
   "name": "python3"
  },
  "language_info": {
   "codemirror_mode": {
    "name": "ipython",
    "version": 2
   },
   "file_extension": ".py",
   "mimetype": "text/x-python",
   "name": "python",
   "nbconvert_exporter": "python",
   "pygments_lexer": "ipython2",
   "version": "2.7.6"
  }
 },
 "nbformat": 4,
 "nbformat_minor": 0
}
