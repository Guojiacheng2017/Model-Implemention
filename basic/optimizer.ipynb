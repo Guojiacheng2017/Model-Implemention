{
 "cells": [
  {
   "cell_type": "code",
   "execution_count": 30,
   "metadata": {
    "collapsed": true
   },
   "outputs": [],
   "source": [
    "import numpy as np\n",
    "import pandas as pd\n",
    "\n",
    "import torch\n",
    "import torch.nn as nn\n",
    "from torchvision import datasets\n",
    "from torchvision.transforms import ToTensor\n",
    "from sklearn.model_selection import train_test_split\n"
   ]
  },
  {
   "cell_type": "code",
   "execution_count": 31,
   "outputs": [
    {
     "name": "stdout",
     "output_type": "stream",
     "text": [
      "Dataset MNIST\n",
      "    Number of datapoints: 60000\n",
      "    Root location: data\n",
      "    Split: Train\n",
      "    StandardTransform\n",
      "Transform: ToTensor()\n"
     ]
    }
   ],
   "source": [
    "device = torch.device('cuda' if torch.cuda.is_available() else 'cpu')\n",
    "\n",
    "train_data = datasets.MNIST(\n",
    "    root='data',\n",
    "    train=True,\n",
    "    transform=ToTensor(),\n",
    "    download=True\n",
    ")\n",
    "\n",
    "test_data = datasets.MNIST(\n",
    "    root='data',\n",
    "    train=False,\n",
    "    transform=ToTensor()\n",
    ")\n",
    "\n",
    "print(train_data)"
   ],
   "metadata": {
    "collapsed": false
   }
  },
  {
   "cell_type": "code",
   "execution_count": 32,
   "outputs": [
    {
     "data": {
      "text/plain": "(tensor([[[0.0000, 0.0000, 0.0000, 0.0000, 0.0000, 0.0000, 0.0000, 0.0000,\n           0.0000, 0.0000, 0.0000, 0.0000, 0.0000, 0.0000, 0.0000, 0.0000,\n           0.0000, 0.0000, 0.0000, 0.0000, 0.0000, 0.0000, 0.0000, 0.0000,\n           0.0000, 0.0000, 0.0000, 0.0000],\n          [0.0000, 0.0000, 0.0000, 0.0000, 0.0000, 0.0000, 0.0000, 0.0000,\n           0.0000, 0.0000, 0.0000, 0.0000, 0.0000, 0.0000, 0.0000, 0.0000,\n           0.0000, 0.0000, 0.0000, 0.0000, 0.0000, 0.0000, 0.0000, 0.0000,\n           0.0000, 0.0000, 0.0000, 0.0000],\n          [0.0000, 0.0000, 0.0000, 0.0000, 0.0000, 0.0000, 0.0000, 0.0000,\n           0.0000, 0.0000, 0.0000, 0.0000, 0.0000, 0.0000, 0.0000, 0.0000,\n           0.0000, 0.0000, 0.0000, 0.0000, 0.0000, 0.0000, 0.0000, 0.0000,\n           0.0000, 0.0000, 0.0000, 0.0000],\n          [0.0000, 0.0000, 0.0000, 0.0000, 0.0000, 0.0000, 0.0000, 0.0000,\n           0.0000, 0.0000, 0.0000, 0.0000, 0.0000, 0.0000, 0.0000, 0.0000,\n           0.0000, 0.0000, 0.0000, 0.0000, 0.0000, 0.0000, 0.0000, 0.0000,\n           0.0000, 0.0000, 0.0000, 0.0000],\n          [0.0000, 0.0000, 0.0000, 0.0000, 0.0000, 0.0000, 0.0000, 0.0000,\n           0.0000, 0.0000, 0.0000, 0.0000, 0.0000, 0.0000, 0.0000, 0.0000,\n           0.0000, 0.0000, 0.0000, 0.0000, 0.0000, 0.0000, 0.0000, 0.0000,\n           0.0000, 0.0000, 0.0000, 0.0000],\n          [0.0000, 0.0000, 0.0000, 0.0000, 0.0000, 0.0000, 0.0000, 0.0000,\n           0.0000, 0.0000, 0.0000, 0.0000, 0.0118, 0.0706, 0.0706, 0.0706,\n           0.4941, 0.5333, 0.6863, 0.1020, 0.6510, 1.0000, 0.9686, 0.4980,\n           0.0000, 0.0000, 0.0000, 0.0000],\n          [0.0000, 0.0000, 0.0000, 0.0000, 0.0000, 0.0000, 0.0000, 0.0000,\n           0.1176, 0.1412, 0.3686, 0.6039, 0.6667, 0.9922, 0.9922, 0.9922,\n           0.9922, 0.9922, 0.8824, 0.6745, 0.9922, 0.9490, 0.7647, 0.2510,\n           0.0000, 0.0000, 0.0000, 0.0000],\n          [0.0000, 0.0000, 0.0000, 0.0000, 0.0000, 0.0000, 0.0000, 0.1922,\n           0.9333, 0.9922, 0.9922, 0.9922, 0.9922, 0.9922, 0.9922, 0.9922,\n           0.9922, 0.9843, 0.3647, 0.3216, 0.3216, 0.2196, 0.1529, 0.0000,\n           0.0000, 0.0000, 0.0000, 0.0000],\n          [0.0000, 0.0000, 0.0000, 0.0000, 0.0000, 0.0000, 0.0000, 0.0706,\n           0.8588, 0.9922, 0.9922, 0.9922, 0.9922, 0.9922, 0.7765, 0.7137,\n           0.9686, 0.9451, 0.0000, 0.0000, 0.0000, 0.0000, 0.0000, 0.0000,\n           0.0000, 0.0000, 0.0000, 0.0000],\n          [0.0000, 0.0000, 0.0000, 0.0000, 0.0000, 0.0000, 0.0000, 0.0000,\n           0.3137, 0.6118, 0.4196, 0.9922, 0.9922, 0.8039, 0.0431, 0.0000,\n           0.1686, 0.6039, 0.0000, 0.0000, 0.0000, 0.0000, 0.0000, 0.0000,\n           0.0000, 0.0000, 0.0000, 0.0000],\n          [0.0000, 0.0000, 0.0000, 0.0000, 0.0000, 0.0000, 0.0000, 0.0000,\n           0.0000, 0.0549, 0.0039, 0.6039, 0.9922, 0.3529, 0.0000, 0.0000,\n           0.0000, 0.0000, 0.0000, 0.0000, 0.0000, 0.0000, 0.0000, 0.0000,\n           0.0000, 0.0000, 0.0000, 0.0000],\n          [0.0000, 0.0000, 0.0000, 0.0000, 0.0000, 0.0000, 0.0000, 0.0000,\n           0.0000, 0.0000, 0.0000, 0.5451, 0.9922, 0.7451, 0.0078, 0.0000,\n           0.0000, 0.0000, 0.0000, 0.0000, 0.0000, 0.0000, 0.0000, 0.0000,\n           0.0000, 0.0000, 0.0000, 0.0000],\n          [0.0000, 0.0000, 0.0000, 0.0000, 0.0000, 0.0000, 0.0000, 0.0000,\n           0.0000, 0.0000, 0.0000, 0.0431, 0.7451, 0.9922, 0.2745, 0.0000,\n           0.0000, 0.0000, 0.0000, 0.0000, 0.0000, 0.0000, 0.0000, 0.0000,\n           0.0000, 0.0000, 0.0000, 0.0000],\n          [0.0000, 0.0000, 0.0000, 0.0000, 0.0000, 0.0000, 0.0000, 0.0000,\n           0.0000, 0.0000, 0.0000, 0.0000, 0.1373, 0.9451, 0.8824, 0.6275,\n           0.4235, 0.0039, 0.0000, 0.0000, 0.0000, 0.0000, 0.0000, 0.0000,\n           0.0000, 0.0000, 0.0000, 0.0000],\n          [0.0000, 0.0000, 0.0000, 0.0000, 0.0000, 0.0000, 0.0000, 0.0000,\n           0.0000, 0.0000, 0.0000, 0.0000, 0.0000, 0.3176, 0.9412, 0.9922,\n           0.9922, 0.4667, 0.0980, 0.0000, 0.0000, 0.0000, 0.0000, 0.0000,\n           0.0000, 0.0000, 0.0000, 0.0000],\n          [0.0000, 0.0000, 0.0000, 0.0000, 0.0000, 0.0000, 0.0000, 0.0000,\n           0.0000, 0.0000, 0.0000, 0.0000, 0.0000, 0.0000, 0.1765, 0.7294,\n           0.9922, 0.9922, 0.5882, 0.1059, 0.0000, 0.0000, 0.0000, 0.0000,\n           0.0000, 0.0000, 0.0000, 0.0000],\n          [0.0000, 0.0000, 0.0000, 0.0000, 0.0000, 0.0000, 0.0000, 0.0000,\n           0.0000, 0.0000, 0.0000, 0.0000, 0.0000, 0.0000, 0.0000, 0.0627,\n           0.3647, 0.9882, 0.9922, 0.7333, 0.0000, 0.0000, 0.0000, 0.0000,\n           0.0000, 0.0000, 0.0000, 0.0000],\n          [0.0000, 0.0000, 0.0000, 0.0000, 0.0000, 0.0000, 0.0000, 0.0000,\n           0.0000, 0.0000, 0.0000, 0.0000, 0.0000, 0.0000, 0.0000, 0.0000,\n           0.0000, 0.9765, 0.9922, 0.9765, 0.2510, 0.0000, 0.0000, 0.0000,\n           0.0000, 0.0000, 0.0000, 0.0000],\n          [0.0000, 0.0000, 0.0000, 0.0000, 0.0000, 0.0000, 0.0000, 0.0000,\n           0.0000, 0.0000, 0.0000, 0.0000, 0.0000, 0.0000, 0.1804, 0.5098,\n           0.7176, 0.9922, 0.9922, 0.8118, 0.0078, 0.0000, 0.0000, 0.0000,\n           0.0000, 0.0000, 0.0000, 0.0000],\n          [0.0000, 0.0000, 0.0000, 0.0000, 0.0000, 0.0000, 0.0000, 0.0000,\n           0.0000, 0.0000, 0.0000, 0.0000, 0.1529, 0.5804, 0.8980, 0.9922,\n           0.9922, 0.9922, 0.9804, 0.7137, 0.0000, 0.0000, 0.0000, 0.0000,\n           0.0000, 0.0000, 0.0000, 0.0000],\n          [0.0000, 0.0000, 0.0000, 0.0000, 0.0000, 0.0000, 0.0000, 0.0000,\n           0.0000, 0.0000, 0.0941, 0.4471, 0.8667, 0.9922, 0.9922, 0.9922,\n           0.9922, 0.7882, 0.3059, 0.0000, 0.0000, 0.0000, 0.0000, 0.0000,\n           0.0000, 0.0000, 0.0000, 0.0000],\n          [0.0000, 0.0000, 0.0000, 0.0000, 0.0000, 0.0000, 0.0000, 0.0000,\n           0.0902, 0.2588, 0.8353, 0.9922, 0.9922, 0.9922, 0.9922, 0.7765,\n           0.3176, 0.0078, 0.0000, 0.0000, 0.0000, 0.0000, 0.0000, 0.0000,\n           0.0000, 0.0000, 0.0000, 0.0000],\n          [0.0000, 0.0000, 0.0000, 0.0000, 0.0000, 0.0000, 0.0706, 0.6706,\n           0.8588, 0.9922, 0.9922, 0.9922, 0.9922, 0.7647, 0.3137, 0.0353,\n           0.0000, 0.0000, 0.0000, 0.0000, 0.0000, 0.0000, 0.0000, 0.0000,\n           0.0000, 0.0000, 0.0000, 0.0000],\n          [0.0000, 0.0000, 0.0000, 0.0000, 0.2157, 0.6745, 0.8863, 0.9922,\n           0.9922, 0.9922, 0.9922, 0.9569, 0.5216, 0.0431, 0.0000, 0.0000,\n           0.0000, 0.0000, 0.0000, 0.0000, 0.0000, 0.0000, 0.0000, 0.0000,\n           0.0000, 0.0000, 0.0000, 0.0000],\n          [0.0000, 0.0000, 0.0000, 0.0000, 0.5333, 0.9922, 0.9922, 0.9922,\n           0.8314, 0.5294, 0.5176, 0.0627, 0.0000, 0.0000, 0.0000, 0.0000,\n           0.0000, 0.0000, 0.0000, 0.0000, 0.0000, 0.0000, 0.0000, 0.0000,\n           0.0000, 0.0000, 0.0000, 0.0000],\n          [0.0000, 0.0000, 0.0000, 0.0000, 0.0000, 0.0000, 0.0000, 0.0000,\n           0.0000, 0.0000, 0.0000, 0.0000, 0.0000, 0.0000, 0.0000, 0.0000,\n           0.0000, 0.0000, 0.0000, 0.0000, 0.0000, 0.0000, 0.0000, 0.0000,\n           0.0000, 0.0000, 0.0000, 0.0000],\n          [0.0000, 0.0000, 0.0000, 0.0000, 0.0000, 0.0000, 0.0000, 0.0000,\n           0.0000, 0.0000, 0.0000, 0.0000, 0.0000, 0.0000, 0.0000, 0.0000,\n           0.0000, 0.0000, 0.0000, 0.0000, 0.0000, 0.0000, 0.0000, 0.0000,\n           0.0000, 0.0000, 0.0000, 0.0000],\n          [0.0000, 0.0000, 0.0000, 0.0000, 0.0000, 0.0000, 0.0000, 0.0000,\n           0.0000, 0.0000, 0.0000, 0.0000, 0.0000, 0.0000, 0.0000, 0.0000,\n           0.0000, 0.0000, 0.0000, 0.0000, 0.0000, 0.0000, 0.0000, 0.0000,\n           0.0000, 0.0000, 0.0000, 0.0000]]]),\n 5)"
     },
     "execution_count": 32,
     "metadata": {},
     "output_type": "execute_result"
    },
    {
     "data": {
      "text/plain": "<Figure size 432x288 with 1 Axes>",
      "image/png": "[encoded data removed]"
     },
     "metadata": {
      "needs_background": "light"
     },
     "output_type": "display_data"
    }
   ],
   "source": [
    "import matplotlib.pyplot as plt\n",
    "\n",
    "# fig = plt.figure(figsize=(10, 8))\n",
    "cols, rows = 5, 2\n",
    "# fig = plt.subplots(rows, cols)\n",
    "for i in range(rows):\n",
    "    for j in range(cols):\n",
    "        img, label = train_data[(i - 1) * cols + j]\n",
    "        plt.imshow(img.squeeze(), cmap='gray')\n",
    "        # plt.show()\n",
    "# plt.tight_layout()\n",
    "# plt.show()\n",
    "\n",
    "train_data[0]"
   ],
   "metadata": {
    "collapsed": false
   }
  },
  {
   "cell_type": "code",
   "execution_count": 33,
   "outputs": [
    {
     "data": {
      "text/plain": "{'train': <torch.utils.data.dataloader.DataLoader at 0x7f8f40690d30>,\n 'test': <torch.utils.data.dataloader.DataLoader at 0x7f8f40690b50>}"
     },
     "execution_count": 33,
     "metadata": {},
     "output_type": "execute_result"
    }
   ],
   "source": [
    "from torch.utils.data import DataLoader\n",
    "loaders = {\n",
    "    'train': torch.utils.data.DataLoader(train_data, batch_size=100, shuffle=True, num_workers=1),\n",
    "    'test': torch.utils.data.DataLoader(test_data, batch_size=100, shuffle=True, num_workers=1)\n",
    "}\n",
    "\n",
    "loaders"
   ],
   "metadata": {
    "collapsed": false
   }
  },
  {
   "cell_type": "code",
   "execution_count": 34,
   "outputs": [
    {
     "name": "stdout",
     "output_type": "stream",
     "text": [
      "LeNet_5(\n",
      "  (conv1): Sequential(\n",
      "    (0): Conv2d(1, 6, kernel_size=(5, 5), stride=(1, 1))\n",
      "    (1): Tanh()\n",
      "    (2): MaxPool2d(kernel_size=2, stride=2, padding=0, dilation=1, ceil_mode=False)\n",
      "  )\n",
      "  (conv2): Sequential(\n",
      "    (0): Conv2d(6, 16, kernel_size=(5, 5), stride=(1, 1))\n",
      "    (1): Tanh()\n",
      "    (2): MaxPool2d(kernel_size=2, stride=2, padding=0, dilation=1, ceil_mode=False)\n",
      "  )\n",
      "  (conv3): Sequential(\n",
      "    (0): Conv2d(16, 120, kernel_size=(5, 5), stride=(1, 1), padding=(2, 2))\n",
      "    (1): Tanh()\n",
      "    (2): MaxPool2d(kernel_size=2, stride=2, padding=0, dilation=1, ceil_mode=False)\n",
      "  )\n",
      "  (fc1): Linear(in_features=480, out_features=84, bias=True)\n",
      "  (fc2): Linear(in_features=84, out_features=10, bias=True)\n",
      "  (act): Tanh()\n",
      ")\n"
     ]
    }
   ],
   "source": [
    "from model import LeNet_5, CNN\n",
    "from torch import optim\n",
    "\n",
    "model = LeNet_5().to(device)\n",
    "print(model)\n",
    "loss_func = nn.CrossEntropyLoss()\n"
   ],
   "metadata": {
    "collapsed": false
   }
  },
  {
   "cell_type": "markdown",
   "source": [
    "## Optimizer List"
   ],
   "metadata": {
    "collapsed": false
   }
  },
  {
   "cell_type": "code",
   "execution_count": 35,
   "outputs": [],
   "source": [
    "optim_sgd = optim.SGD(model.parameters(), lr=0.1, momentum=0.05) # momentum = ?\n",
    "# optim_adagrad = optim.Adagrad(model.parameters(), lr=0.01, lr_decay=0.1)\n",
    "# optim_rms = optim.RMSprop(model.parameters(), centered=True)\n",
    "# optim_rms2 = optim.RMSprop(model.parameters(), centered=False)\n",
    "# optim_delta = optim.Adadelta(model.parameters(), lr=1.0, rho=0.9, eps=1e-06)  # weight_decay=0.1, learning rate should be much larger than other optimizers\n",
    "# optim_adam = optim.Adam(model.parameters(), lr=0.01, weight_decay=0.005) # there is no weight decay in the training process\n",
    "# optim_nadam = op.NAdam()\n",
    "\n",
    "optimizer = optim_sgd"
   ],
   "metadata": {
    "collapsed": false
   }
  },
  {
   "cell_type": "code",
   "execution_count": 36,
   "outputs": [],
   "source": [
    "from torch.autograd import Variable\n",
    "num_epochs = 10\n",
    "\n",
    "loss_arr_1 = []\n",
    "loss_arr_2 = []\n",
    "\n",
    "def train(num_epochs, model, loaders, optimizer, loss_arr):\n",
    "\n",
    "    model.train()\n",
    "    # Train the model\n",
    "    total_step = len(loaders['train'])\n",
    "\n",
    "    for epoch in range(num_epochs):\n",
    "        loss_arr_inside = []\n",
    "        for i, (images, labels) in enumerate(loaders['train']):\n",
    "\n",
    "            # gives batch data, normalize x when iterate train_loader\n",
    "            b_x = images.to(device)   # batch x\n",
    "            b_y = labels.to(device)   # batch y\n",
    "            pred = model(b_x)\n",
    "            # print(pred, b_y)\n",
    "            loss = loss_func(pred, b_y)\n",
    "            pred_label = torch.max(pred, 1)[1].data.squeeze()\n",
    "            # print(pred_label)\n",
    "            # add loss data to list\n",
    "\n",
    "            loss_arr_inside.append(loss.detach().numpy())\n",
    "\n",
    "            # clear gradients for this training step\n",
    "            optimizer.zero_grad()\n",
    "            # backpropagation, compute gradients\n",
    "            loss.backward()\n",
    "            # apply gradients\n",
    "            optimizer.step()\n",
    "\n",
    "            if (i + 1) % 100 == 0:\n",
    "                criterion = sum(loss_arr_inside) / len(loss_arr_inside)\n",
    "                loss_arr.append(criterion)\n",
    "                print ('Epoch [{}/{}], Step [{}/{}], Loss: {:.4f}, Accuracy: [{}/{}]'\n",
    "                       .format(epoch + 1, num_epochs, i + 1, total_step, criterion, (pred_label == labels).sum(), len(pred))) # criterion <=> loss.item()\n",
    "            pass\n",
    "        pass\n",
    "    pass\n"
   ],
   "metadata": {
    "collapsed": false
   }
  },
  {
   "cell_type": "markdown",
   "source": [
    "## RMSprop \"Centered\" Compare"
   ],
   "metadata": {
    "collapsed": false
   }
  },
  {
   "cell_type": "code",
   "execution_count": 37,
   "outputs": [
    {
     "name": "stdout",
     "output_type": "stream",
     "text": [
      "Epoch [1/10], Step [100/600], Loss: 2.0511, Accuracy: [73/100]\n",
      "Epoch [1/10], Step [200/600], Loss: 1.3594, Accuracy: [85/100]\n",
      "Epoch [1/10], Step [300/600], Loss: 1.0093, Accuracy: [94/100]\n",
      "Epoch [1/10], Step [400/600], Loss: 0.8098, Accuracy: [97/100]\n",
      "Epoch [1/10], Step [500/600], Loss: 0.6833, Accuracy: [91/100]\n",
      "Epoch [1/10], Step [600/600], Loss: 0.5932, Accuracy: [95/100]\n",
      "Epoch [2/10], Step [100/600], Loss: 0.1129, Accuracy: [96/100]\n",
      "Epoch [2/10], Step [200/600], Loss: 0.1112, Accuracy: [98/100]\n",
      "Epoch [2/10], Step [300/600], Loss: 0.1069, Accuracy: [98/100]\n",
      "Epoch [2/10], Step [400/600], Loss: 0.1015, Accuracy: [98/100]\n",
      "Epoch [2/10], Step [500/600], Loss: 0.0988, Accuracy: [98/100]\n",
      "Epoch [2/10], Step [600/600], Loss: 0.0964, Accuracy: [97/100]\n",
      "Epoch [3/10], Step [100/600], Loss: 0.0647, Accuracy: [96/100]\n",
      "Epoch [3/10], Step [200/600], Loss: 0.0680, Accuracy: [98/100]\n",
      "Epoch [3/10], Step [300/600], Loss: 0.0659, Accuracy: [97/100]\n",
      "Epoch [3/10], Step [400/600], Loss: 0.0636, Accuracy: [99/100]\n",
      "Epoch [3/10], Step [500/600], Loss: 0.0628, Accuracy: [100/100]\n",
      "Epoch [3/10], Step [600/600], Loss: 0.0629, Accuracy: [95/100]\n",
      "Epoch [4/10], Step [100/600], Loss: 0.0522, Accuracy: [99/100]\n",
      "Epoch [4/10], Step [200/600], Loss: 0.0507, Accuracy: [100/100]\n",
      "Epoch [4/10], Step [300/600], Loss: 0.0504, Accuracy: [98/100]\n",
      "Epoch [4/10], Step [400/600], Loss: 0.0493, Accuracy: [99/100]\n",
      "Epoch [4/10], Step [500/600], Loss: 0.0481, Accuracy: [99/100]\n",
      "Epoch [4/10], Step [600/600], Loss: 0.0474, Accuracy: [99/100]\n",
      "Epoch [5/10], Step [100/600], Loss: 0.0403, Accuracy: [99/100]\n",
      "Epoch [5/10], Step [200/600], Loss: 0.0381, Accuracy: [98/100]\n",
      "Epoch [5/10], Step [300/600], Loss: 0.0386, Accuracy: [100/100]\n",
      "Epoch [5/10], Step [400/600], Loss: 0.0387, Accuracy: [99/100]\n",
      "Epoch [5/10], Step [500/600], Loss: 0.0381, Accuracy: [97/100]\n",
      "Epoch [5/10], Step [600/600], Loss: 0.0377, Accuracy: [98/100]\n",
      "Epoch [6/10], Step [100/600], Loss: 0.0304, Accuracy: [100/100]\n",
      "Epoch [6/10], Step [200/600], Loss: 0.0290, Accuracy: [100/100]\n",
      "Epoch [6/10], Step [300/600], Loss: 0.0298, Accuracy: [97/100]\n",
      "Epoch [6/10], Step [400/600], Loss: 0.0292, Accuracy: [99/100]\n",
      "Epoch [6/10], Step [500/600], Loss: 0.0307, Accuracy: [99/100]\n",
      "Epoch [6/10], Step [600/600], Loss: 0.0307, Accuracy: [99/100]\n",
      "Epoch [7/10], Step [100/600], Loss: 0.0259, Accuracy: [100/100]\n",
      "Epoch [7/10], Step [200/600], Loss: 0.0249, Accuracy: [100/100]\n",
      "Epoch [7/10], Step [300/600], Loss: 0.0265, Accuracy: [100/100]\n",
      "Epoch [7/10], Step [400/600], Loss: 0.0268, Accuracy: [100/100]\n",
      "Epoch [7/10], Step [500/600], Loss: 0.0265, Accuracy: [100/100]\n",
      "Epoch [7/10], Step [600/600], Loss: 0.0258, Accuracy: [100/100]\n",
      "Epoch [8/10], Step [100/600], Loss: 0.0197, Accuracy: [100/100]\n",
      "Epoch [8/10], Step [200/600], Loss: 0.0199, Accuracy: [100/100]\n",
      "Epoch [8/10], Step [300/600], Loss: 0.0200, Accuracy: [99/100]\n",
      "Epoch [8/10], Step [400/600], Loss: 0.0202, Accuracy: [100/100]\n",
      "Epoch [8/10], Step [500/600], Loss: 0.0212, Accuracy: [100/100]\n",
      "Epoch [8/10], Step [600/600], Loss: 0.0211, Accuracy: [100/100]\n",
      "Epoch [9/10], Step [100/600], Loss: 0.0176, Accuracy: [100/100]\n",
      "Epoch [9/10], Step [200/600], Loss: 0.0167, Accuracy: [100/100]\n",
      "Epoch [9/10], Step [300/600], Loss: 0.0168, Accuracy: [100/100]\n",
      "Epoch [9/10], Step [400/600], Loss: 0.0172, Accuracy: [98/100]\n",
      "Epoch [9/10], Step [500/600], Loss: 0.0176, Accuracy: [100/100]\n",
      "Epoch [9/10], Step [600/600], Loss: 0.0177, Accuracy: [100/100]\n",
      "Epoch [10/10], Step [100/600], Loss: 0.0161, Accuracy: [99/100]\n",
      "Epoch [10/10], Step [200/600], Loss: 0.0150, Accuracy: [100/100]\n",
      "Epoch [10/10], Step [300/600], Loss: 0.0151, Accuracy: [100/100]\n",
      "Epoch [10/10], Step [400/600], Loss: 0.0147, Accuracy: [99/100]\n",
      "Epoch [10/10], Step [500/600], Loss: 0.0145, Accuracy: [99/100]\n",
      "Epoch [10/10], Step [600/600], Loss: 0.0150, Accuracy: [99/100]\n",
      "First Complete\n"
     ]
    }
   ],
   "source": [
    "train(num_epochs, model, loaders, optimizer, loss_arr_1)\n",
    "print(\"First Complete\")\n",
    "# train(num_epochs, model, loaders, optim_delta, loss_arr_2)\n",
    "# print(\"Second Complete\")"
   ],
   "metadata": {
    "collapsed": false
   }
  },
  {
   "cell_type": "code",
   "execution_count": 38,
   "outputs": [
    {
     "data": {
      "text/plain": "<function matplotlib.pyplot.legend(*args, **kwargs)>"
     },
     "execution_count": 38,
     "metadata": {},
     "output_type": "execute_result"
    },
    {
     "data": {
      "text/plain": "<Figure size 432x288 with 1 Axes>",
      "image/png": "[encoded data removed]"
     },
     "metadata": {
      "needs_background": "light"
     },
     "output_type": "display_data"
    }
   ],
   "source": [
    "x_range = np.linspace(start=1, stop=60, num=60)\n",
    "plt.figure()\n",
    "plt.xlabel('epochs')\n",
    "plt.ylabel('errors')\n",
    "plt.plot(x_range, loss_arr_1, color = 'blue')\n",
    "# plt.plot(x_range, loss_arr_2, color = 'red')\n",
    "plt.legend"
   ],
   "metadata": {
    "collapsed": false
   }
  },
  {
   "cell_type": "code",
   "execution_count": 39,
   "outputs": [
    {
     "data": {
      "text/plain": "60"
     },
     "execution_count": 39,
     "metadata": {},
     "output_type": "execute_result"
    }
   ],
   "source": [
    "len(loss_arr_1)"
   ],
   "metadata": {
    "collapsed": false
   }
  },
  {
   "cell_type": "code",
   "execution_count": 40,
   "outputs": [],
   "source": [
    "# for i in enumerate(loss_arr_1):\n",
    "#     i = i.detach().numpy()\n",
    "# for i in enumerate(loss_arr_2):\n",
    "#     i = i.detach().numpy()\n",
    "# print(loss_arr_1[0].detach().numpy(), type(loss_arr_1[0].detach().numpy))"
   ],
   "metadata": {
    "collapsed": false
   }
  },
  {
   "cell_type": "code",
   "execution_count": 41,
   "outputs": [],
   "source": [
    "def test(model):\n",
    "    # test the model\n",
    "    model.eval()\n",
    "\n",
    "    with torch.no_grad():\n",
    "        correct = 0\n",
    "        total = 0\n",
    "        for images, labels in loaders['test']:\n",
    "            pred = model(images)\n",
    "            pred_y = torch.max(pred, 1)[1].data.squeeze()\n",
    "            accuracy = (pred_y == labels).sum().item() / float(labels.size(0))\n",
    "            # accuracy = (pred_y ^ labels).sum()\n",
    "            pass\n",
    "\n",
    "        print('Test Accuracy of the model on the test images: %.2f' % accuracy)\n",
    "\n",
    "\n",
    "# test(model)"
   ],
   "metadata": {
    "collapsed": false
   }
  },
  {
   "cell_type": "code",
   "execution_count": 42,
   "outputs": [],
   "source": [
    "path = '../model/LeNet_5'\n",
    "\n",
    "# torch.save(model.state_dict(), path)"
   ],
   "metadata": {
    "collapsed": false
   }
  },
  {
   "cell_type": "code",
   "execution_count": 42,
   "outputs": [],
   "source": [],
   "metadata": {
    "collapsed": false
   }
  }
 ],
 "metadata": {
  "kernelspec": {
   "display_name": "Python 3",
   "language": "python",
   "name": "python3"
  },
  "language_info": {
   "codemirror_mode": {
    "name": "ipython",
    "version": 2
   },
   "file_extension": ".py",
   "mimetype": "text/x-python",
   "name": "python",
   "nbconvert_exporter": "python",
   "pygments_lexer": "ipython2",
   "version": "2.7.6"
  }
 },
 "nbformat": 4,
 "nbformat_minor": 0
}
