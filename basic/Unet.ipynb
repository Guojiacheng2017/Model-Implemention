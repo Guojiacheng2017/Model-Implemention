{
 "cells": [
  {
   "cell_type": "code",
   "execution_count": 1,
   "metadata": {
    "collapsed": true,
    "ExecuteTime": {
     "start_time": "2023-04-13T13:51:11.505528Z",
     "end_time": "2023-04-13T13:51:12.544664Z"
    }
   },
   "outputs": [],
   "source": [
    "import torch\n",
    "import torch.nn as nn\n",
    "import torch.optim as optim\n",
    "import numpy as np"
   ]
  },
  {
   "cell_type": "markdown",
   "source": [
    "## U-net Structure\n",
    "\n",
    "<img src=\"../img_indoc/u-net-architecture.png\" alt='U-net Structure Figure' width=800>"
   ],
   "metadata": {
    "collapsed": false
   }
  },
  {
   "cell_type": "code",
   "execution_count": 2,
   "outputs": [],
   "source": [
    "# <img src=\"../img_indoc/u-net-architecture.png\" alt='U-net Structure Figure' width=800>\n",
    "# ![alt U-net-Structure](../img_indoc/u-net-architecture.png)"
   ],
   "metadata": {
    "collapsed": false,
    "ExecuteTime": {
     "start_time": "2023-04-13T13:51:12.546435Z",
     "end_time": "2023-04-13T13:51:12.551500Z"
    }
   }
  },
  {
   "cell_type": "code",
   "execution_count": 3,
   "outputs": [
    {
     "name": "stdout",
     "output_type": "stream",
     "text": [
      "torch.Size([10, 2, 224, 224])\n"
     ]
    }
   ],
   "source": [
    "from U_net import Unet\n",
    "\n",
    "device = torch.device('cuda' if torch.cuda.is_available() else 'cpu')\n",
    "\n",
    "\n",
    "rand_img = torch.rand(10,3,224,224)\n",
    "# print((rand_img.size()[1]))\n",
    "\n",
    "model = Unet(3, pad=True).to(device)\n",
    "print(model(rand_img).shape)"
   ],
   "metadata": {
    "collapsed": false,
    "ExecuteTime": {
     "start_time": "2023-04-13T13:51:12.549326Z",
     "end_time": "2023-04-13T13:51:22.239872Z"
    }
   }
  },
  {
   "cell_type": "code",
   "execution_count": 4,
   "outputs": [
    {
     "name": "stdout",
     "output_type": "stream",
     "text": [
      "tensor([ 1.0000,  3.2500,  5.5000,  7.7500, 10.0000])\n",
      "tensor([1, 6])\n"
     ]
    }
   ],
   "source": [
    "torch.numel(rand_img) # 10*3*224*224 = 1505280\n",
    "\n",
    "print(torch.linspace(1, 10, 5))\n",
    "print(torch.arange(1, 10, 5))"
   ],
   "metadata": {
    "collapsed": false,
    "ExecuteTime": {
     "start_time": "2023-04-13T13:51:30.965936Z",
     "end_time": "2023-04-13T13:51:30.975753Z"
    }
   }
  },
  {
   "cell_type": "markdown",
   "source": [
    "### How to crop the image\n"
   ],
   "metadata": {
    "collapsed": false
   }
  },
  {
   "cell_type": "code",
   "execution_count": 5,
   "outputs": [
    {
     "data": {
      "text/plain": "torch.Size([10, 3, 200, 200])"
     },
     "execution_count": 5,
     "metadata": {},
     "output_type": "execute_result"
    }
   ],
   "source": [
    "from U_net import centerCrop\n",
    "\n",
    "rand_img = torch.rand(10,3,224,224)\n",
    "centerCrop(rand_img, 200, 200).shape"
   ],
   "metadata": {
    "collapsed": false,
    "ExecuteTime": {
     "start_time": "2023-04-13T13:51:34.608540Z",
     "end_time": "2023-04-13T13:51:34.661704Z"
    }
   }
  },
  {
   "cell_type": "markdown",
   "source": [
    "### Create data"
   ],
   "metadata": {
    "collapsed": false
   }
  },
  {
   "cell_type": "code",
   "execution_count": 6,
   "outputs": [
    {
     "name": "stdout",
     "output_type": "stream",
     "text": [
      "<class 'pandas.core.frame.DataFrame'>\n",
      "RangeIndex: 4000 entries, 0 to 3999\n",
      "Data columns (total 2 columns):\n",
      " #   Column    Non-Null Count  Dtype \n",
      "---  ------    --------------  ----- \n",
      " 0   id        4000 non-null   object\n",
      " 1   rle_mask  2438 non-null   object\n",
      "dtypes: object(2)\n",
      "memory usage: 62.6+ KB\n",
      "None\n",
      "           id                                           rle_mask\n",
      "0  2c45b152f1  99 3 197 6 295 9 395 10 494 12 594 13 694 14 7...\n",
      "1  3cb59a4fdc                                             1 5656\n",
      "2  e185ab5dc1  4647 2 4748 10 4849 18 4950 25 5051 29 5152 34...\n",
      "3  c78c89577c                                              101 1\n",
      "4  6306dd3a8e  1 30 102 29 203 29 304 28 405 27 506 27 607 26...\n"
     ]
    }
   ],
   "source": [
    "import torchvision.datasets as datasets\n",
    "import pandas as pd\n",
    "\n",
    "df = pd.read_csv('data/SaltDataset/train.csv')\n",
    "print(df.info())\n",
    "print(df.head())"
   ],
   "metadata": {
    "collapsed": false
   }
  },
  {
   "cell_type": "code",
   "execution_count": 7,
   "outputs": [
    {
     "name": "stdout",
     "output_type": "stream",
     "text": [
      "(4000,)\n"
     ]
    }
   ],
   "source": [
    "img_id = df['id']\n",
    "img_mask = df['rle_mask']\n",
    "file = img_id.to_numpy()\n",
    "print(file.shape)"
   ],
   "metadata": {
    "collapsed": false
   }
  },
  {
   "cell_type": "code",
   "execution_count": 7,
   "outputs": [],
   "source": [],
   "metadata": {
    "collapsed": false
   }
  }
 ],
 "metadata": {
  "kernelspec": {
   "display_name": "Python 3",
   "language": "python",
   "name": "python3"
  },
  "language_info": {
   "codemirror_mode": {
    "name": "ipython",
    "version": 2
   },
   "file_extension": ".py",
   "mimetype": "text/x-python",
   "name": "python",
   "nbconvert_exporter": "python",
   "pygments_lexer": "ipython2",
   "version": "2.7.6"
  }
 },
 "nbformat": 4,
 "nbformat_minor": 0
}
