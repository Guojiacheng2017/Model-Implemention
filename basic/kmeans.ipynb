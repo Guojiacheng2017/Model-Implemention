{
 "cells": [
  {
   "cell_type": "code",
   "execution_count": 1,
   "metadata": {
    "collapsed": true
   },
   "outputs": [],
   "source": [
    "from sklearn.cluster import KMeans\n",
    "import numpy as np\n",
    "import pandas as pd\n",
    "import matplotlib.pyplot as plt"
   ]
  },
  {
   "cell_type": "code",
   "execution_count": 3,
   "outputs": [
    {
     "data": {
      "text/plain": "         V1        V2        V3        V4        V5        V6        V7  \\\n0  1.448417  2.194434  0.253484  3.271674  1.784326  1.314152  2.349716   \n1  2.611821  2.880855  1.036606  3.449158  3.062979  1.429632  1.996817   \n2  4.764148  3.163216  1.323310  4.827628  2.620347  2.579631  2.464886   \n3  2.583472  3.406480  1.379676  1.887976  2.673067  1.101041  2.889585   \n4  1.833661  3.639340  1.876556  4.474807  4.633710  1.809670  3.600430   \n5  3.041895  1.491482  1.933388  3.671512  2.166114  1.856097  3.415845   \n6  4.246489  3.007671 -1.428808  1.454671  3.905176  1.903427  2.894249   \n7  1.422029  3.524168  2.727994  2.722953  2.253718  2.181447  2.143437   \n8  2.746180  4.326336  1.456003  2.370657  0.540978  3.596574  4.127327   \n9  3.467831  2.886432  0.429640  2.067000 -0.227248  1.548668  3.916282   \n\n         V8        V9       V10  ...       V41       V42       V43       V44  \\\n0  1.912047  2.226564  3.388439  ...  0.903844  1.825982 -1.000929  2.849224   \n1  0.843128  2.421644  2.155107  ...  2.049050  2.515668  1.333777  1.550993   \n2 -1.033376  2.004838  3.737990  ...  0.801504  1.765635  2.171325  3.643009   \n3 -0.299666  2.618984  1.920240  ...  2.190019  1.341497  3.059539  3.483194   \n4  0.142749  2.431134  1.973526  ...  3.297706  3.250237 -0.376862  2.993644   \n5  1.426265  2.558312  3.288793  ...  0.966126  1.728236 -0.150856  3.151456   \n6  0.715164  2.495961  3.090811  ...  1.261559  2.947952  0.294179  2.415891   \n7  0.385631  3.661886  3.262623  ...  2.046564  0.798418 -0.054056  3.368807   \n8  0.155109  0.944965  3.069335  ...  0.982404  1.533884  0.354256  3.294654   \n9  1.153695  3.508325  2.471356  ...  1.616716  1.730649  0.814622  2.720741   \n\n        V45       V46       V47       V48       V49       V50  \n0  1.959302  2.571741  4.200965  2.580996  3.321925  1.569531  \n1  0.448455  2.386328  4.044751  2.768179  2.216161  1.742731  \n2  3.167170  0.975322  1.996791  2.463768  4.575728  0.236837  \n3  1.726354  1.775252  4.848482  1.114224  3.642899  2.460097  \n4  1.532155  3.179516  2.333227  0.900219  3.089761  1.360005  \n5  0.761748  3.567621  3.105514  3.512707  3.276551  2.455450  \n6  1.992238  2.507123  2.577744  2.257921  3.679289  2.704837  \n7  1.199718  3.000063  2.877650  2.088440  3.089833  3.035104  \n8  1.466508  4.122890  3.188193  1.879103  0.006910  1.391074  \n9  3.287675  4.439856  3.119161  0.805671  3.284883  2.504955  \n\n[10 rows x 50 columns]",
      "text/html": "<div>\n<style scoped>\n    .dataframe tbody tr th:only-of-type {\n        vertical-align: middle;\n    }\n\n    .dataframe tbody tr th {\n        vertical-align: top;\n    }\n\n    .dataframe thead th {\n        text-align: right;\n    }\n</style>\n<table border=\"1\" class=\"dataframe\">\n  <thead>\n    <tr style=\"text-align: right;\">\n      <th></th>\n      <th>V1</th>\n      <th>V2</th>\n      <th>V3</th>\n      <th>V4</th>\n      <th>V5</th>\n      <th>V6</th>\n      <th>V7</th>\n      <th>V8</th>\n      <th>V9</th>\n      <th>V10</th>\n      <th>...</th>\n      <th>V41</th>\n      <th>V42</th>\n      <th>V43</th>\n      <th>V44</th>\n      <th>V45</th>\n      <th>V46</th>\n      <th>V47</th>\n      <th>V48</th>\n      <th>V49</th>\n      <th>V50</th>\n    </tr>\n  </thead>\n  <tbody>\n    <tr>\n      <th>0</th>\n      <td>1.448417</td>\n      <td>2.194434</td>\n      <td>0.253484</td>\n      <td>3.271674</td>\n      <td>1.784326</td>\n      <td>1.314152</td>\n      <td>2.349716</td>\n      <td>1.912047</td>\n      <td>2.226564</td>\n      <td>3.388439</td>\n      <td>...</td>\n      <td>0.903844</td>\n      <td>1.825982</td>\n      <td>-1.000929</td>\n      <td>2.849224</td>\n      <td>1.959302</td>\n      <td>2.571741</td>\n      <td>4.200965</td>\n      <td>2.580996</td>\n      <td>3.321925</td>\n      <td>1.569531</td>\n    </tr>\n    <tr>\n      <th>1</th>\n      <td>2.611821</td>\n      <td>2.880855</td>\n      <td>1.036606</td>\n      <td>3.449158</td>\n      <td>3.062979</td>\n      <td>1.429632</td>\n      <td>1.996817</td>\n      <td>0.843128</td>\n      <td>2.421644</td>\n      <td>2.155107</td>\n      <td>...</td>\n      <td>2.049050</td>\n      <td>2.515668</td>\n      <td>1.333777</td>\n      <td>1.550993</td>\n      <td>0.448455</td>\n      <td>2.386328</td>\n      <td>4.044751</td>\n      <td>2.768179</td>\n      <td>2.216161</td>\n      <td>1.742731</td>\n    </tr>\n    <tr>\n      <th>2</th>\n      <td>4.764148</td>\n      <td>3.163216</td>\n      <td>1.323310</td>\n      <td>4.827628</td>\n      <td>2.620347</td>\n      <td>2.579631</td>\n      <td>2.464886</td>\n      <td>-1.033376</td>\n      <td>2.004838</td>\n      <td>3.737990</td>\n      <td>...</td>\n      <td>0.801504</td>\n      <td>1.765635</td>\n      <td>2.171325</td>\n      <td>3.643009</td>\n      <td>3.167170</td>\n      <td>0.975322</td>\n      <td>1.996791</td>\n      <td>2.463768</td>\n      <td>4.575728</td>\n      <td>0.236837</td>\n    </tr>\n    <tr>\n      <th>3</th>\n      <td>2.583472</td>\n      <td>3.406480</td>\n      <td>1.379676</td>\n      <td>1.887976</td>\n      <td>2.673067</td>\n      <td>1.101041</td>\n      <td>2.889585</td>\n      <td>-0.299666</td>\n      <td>2.618984</td>\n      <td>1.920240</td>\n      <td>...</td>\n      <td>2.190019</td>\n      <td>1.341497</td>\n      <td>3.059539</td>\n      <td>3.483194</td>\n      <td>1.726354</td>\n      <td>1.775252</td>\n      <td>4.848482</td>\n      <td>1.114224</td>\n      <td>3.642899</td>\n      <td>2.460097</td>\n    </tr>\n    <tr>\n      <th>4</th>\n      <td>1.833661</td>\n      <td>3.639340</td>\n      <td>1.876556</td>\n      <td>4.474807</td>\n      <td>4.633710</td>\n      <td>1.809670</td>\n      <td>3.600430</td>\n      <td>0.142749</td>\n      <td>2.431134</td>\n      <td>1.973526</td>\n      <td>...</td>\n      <td>3.297706</td>\n      <td>3.250237</td>\n      <td>-0.376862</td>\n      <td>2.993644</td>\n      <td>1.532155</td>\n      <td>3.179516</td>\n      <td>2.333227</td>\n      <td>0.900219</td>\n      <td>3.089761</td>\n      <td>1.360005</td>\n    </tr>\n    <tr>\n      <th>5</th>\n      <td>3.041895</td>\n      <td>1.491482</td>\n      <td>1.933388</td>\n      <td>3.671512</td>\n      <td>2.166114</td>\n      <td>1.856097</td>\n      <td>3.415845</td>\n      <td>1.426265</td>\n      <td>2.558312</td>\n      <td>3.288793</td>\n      <td>...</td>\n      <td>0.966126</td>\n      <td>1.728236</td>\n      <td>-0.150856</td>\n      <td>3.151456</td>\n      <td>0.761748</td>\n      <td>3.567621</td>\n      <td>3.105514</td>\n      <td>3.512707</td>\n      <td>3.276551</td>\n      <td>2.455450</td>\n    </tr>\n    <tr>\n      <th>6</th>\n      <td>4.246489</td>\n      <td>3.007671</td>\n      <td>-1.428808</td>\n      <td>1.454671</td>\n      <td>3.905176</td>\n      <td>1.903427</td>\n      <td>2.894249</td>\n      <td>0.715164</td>\n      <td>2.495961</td>\n      <td>3.090811</td>\n      <td>...</td>\n      <td>1.261559</td>\n      <td>2.947952</td>\n      <td>0.294179</td>\n      <td>2.415891</td>\n      <td>1.992238</td>\n      <td>2.507123</td>\n      <td>2.577744</td>\n      <td>2.257921</td>\n      <td>3.679289</td>\n      <td>2.704837</td>\n    </tr>\n    <tr>\n      <th>7</th>\n      <td>1.422029</td>\n      <td>3.524168</td>\n      <td>2.727994</td>\n      <td>2.722953</td>\n      <td>2.253718</td>\n      <td>2.181447</td>\n      <td>2.143437</td>\n      <td>0.385631</td>\n      <td>3.661886</td>\n      <td>3.262623</td>\n      <td>...</td>\n      <td>2.046564</td>\n      <td>0.798418</td>\n      <td>-0.054056</td>\n      <td>3.368807</td>\n      <td>1.199718</td>\n      <td>3.000063</td>\n      <td>2.877650</td>\n      <td>2.088440</td>\n      <td>3.089833</td>\n      <td>3.035104</td>\n    </tr>\n    <tr>\n      <th>8</th>\n      <td>2.746180</td>\n      <td>4.326336</td>\n      <td>1.456003</td>\n      <td>2.370657</td>\n      <td>0.540978</td>\n      <td>3.596574</td>\n      <td>4.127327</td>\n      <td>0.155109</td>\n      <td>0.944965</td>\n      <td>3.069335</td>\n      <td>...</td>\n      <td>0.982404</td>\n      <td>1.533884</td>\n      <td>0.354256</td>\n      <td>3.294654</td>\n      <td>1.466508</td>\n      <td>4.122890</td>\n      <td>3.188193</td>\n      <td>1.879103</td>\n      <td>0.006910</td>\n      <td>1.391074</td>\n    </tr>\n    <tr>\n      <th>9</th>\n      <td>3.467831</td>\n      <td>2.886432</td>\n      <td>0.429640</td>\n      <td>2.067000</td>\n      <td>-0.227248</td>\n      <td>1.548668</td>\n      <td>3.916282</td>\n      <td>1.153695</td>\n      <td>3.508325</td>\n      <td>2.471356</td>\n      <td>...</td>\n      <td>1.616716</td>\n      <td>1.730649</td>\n      <td>0.814622</td>\n      <td>2.720741</td>\n      <td>3.287675</td>\n      <td>4.439856</td>\n      <td>3.119161</td>\n      <td>0.805671</td>\n      <td>3.284883</td>\n      <td>2.504955</td>\n    </tr>\n  </tbody>\n</table>\n<p>10 rows × 50 columns</p>\n</div>"
     },
     "execution_count": 3,
     "metadata": {},
     "output_type": "execute_result"
    }
   ],
   "source": [
    "df = pd.read_csv(\"../data/clust_data.csv\")\n",
    "df.head(10)"
   ],
   "metadata": {
    "collapsed": false
   }
  },
  {
   "cell_type": "markdown",
   "source": [
    "## I - Apply k-means to data 15 times"
   ],
   "metadata": {
    "collapsed": false
   }
  },
  {
   "cell_type": "code",
   "execution_count": 3,
   "outputs": [],
   "source": [
    "K = 15\n",
    "inertia = np.zeros(15)\n",
    "\n",
    "for i in range(1, K + 1):\n",
    "    kmeans = KMeans(n_clusters=i, random_state=0, n_init=10)\n",
    "    kmeans.fit(df)\n",
    "    inertia[i - 1] = kmeans.inertia_\n",
    "    pass\n"
   ],
   "metadata": {
    "collapsed": false
   }
  },
  {
   "cell_type": "code",
   "execution_count": 4,
   "outputs": [
    {
     "data": {
      "text/plain": "<function matplotlib.pyplot.legend(*args, **kwargs)>"
     },
     "execution_count": 4,
     "metadata": {},
     "output_type": "execute_result"
    },
    {
     "data": {
      "text/plain": "<Figure size 432x288 with 1 Axes>",
      "image/png": "[encoded data removed]"
     },
     "metadata": {
      "needs_background": "light"
     },
     "output_type": "display_data"
    }
   ],
   "source": [
    "plt.figure()\n",
    "plt.xlabel('centroid number')\n",
    "plt.ylabel('inertia')\n",
    "x_range = np.linspace(1, K, num=K)\n",
    "plt.plot(x_range, inertia)\n",
    "plt.legend  # 加图例"
   ],
   "metadata": {
    "collapsed": false
   }
  },
  {
   "cell_type": "markdown",
   "source": [
    "## II - Re-apply K-means using the chosen number of centers"
   ],
   "metadata": {
    "collapsed": false
   }
  },
  {
   "cell_type": "code",
   "execution_count": 5,
   "outputs": [
    {
     "name": "stdout",
     "output_type": "stream",
     "text": [
      "[3 3 3 3 3 3 3 3 3 3 3 3 3 3 3 3 3 3 3 3 3 3 3 3 3 0 0 0 0 0 0 0 0 0 0 0 0\n",
      " 0 0 0 0 0 0 0 0 0 0 0 0 0 2 2 2 2 2 2 2 2 2 2 2 2 2 2 2 2 2 2 2 2 2 2 2 2\n",
      " 2 1 1 1 1 1 1 1 1 1 1 1 1 1 1 1 1 1 1 1 1 1 1 1 1 1]\n",
      "4844.925817623822\n",
      "[0 1 2 3] [25 25 25 25]\n"
     ]
    }
   ],
   "source": [
    "# reapply k-means with the chosen number of centers\n",
    "# count observations in each cluster\n",
    "# calculate inertia\n",
    "# print out the results\n",
    "## to do\n",
    "kmeans = KMeans(n_clusters=4, random_state=0, n_init=10)\n",
    "kmeans.fit(df)\n",
    "label_four = kmeans.labels_\n",
    "centroids_four = kmeans.cluster_centers_\n",
    "inertia = kmeans.inertia_\n",
    "print(label_four)\n",
    "print(inertia)\n",
    "tp, ob_count = np.unique(label_four, return_counts=True)\n",
    "print(tp, ob_count)\n"
   ],
   "metadata": {
    "collapsed": false
   }
  },
  {
   "cell_type": "markdown",
   "source": [
    "## III - Visualization"
   ],
   "metadata": {
    "collapsed": false
   }
  },
  {
   "cell_type": "code",
   "execution_count": 6,
   "outputs": [
    {
     "data": {
      "text/plain": "<Figure size 432x288 with 1 Axes>",
      "image/png": "[encoded data removed]"
     },
     "metadata": {
      "needs_background": "light"
     },
     "output_type": "display_data"
    }
   ],
   "source": [
    "# visualize the data\n",
    "## to do\n",
    "plt.figure()\n",
    "plt.xlabel('x axis')\n",
    "plt.ylabel('y axis')\n",
    "# for i in range(5):\n",
    "# plt.scatter(filtered_label0, filtered_label0)\n",
    "# plt.plot(df.loc[1], df.loc[2], y)\n",
    "\n",
    "# plt.scatter(df['V1'][1],df['V2'][1])\n",
    "\n",
    "for idx, val in enumerate(label_four):\n",
    "#     print(idx)\n",
    "    if val == 0:\n",
    "        plt.scatter(df['V1'][idx], df['V2'][idx], c = 'red')\n",
    "    elif val == 1:\n",
    "        plt.scatter(df['V1'][idx], df['V2'][idx], c = 'green')\n",
    "    elif val == 2:\n",
    "        plt.scatter(df['V1'][idx], df['V2'][idx], c = 'blue')\n",
    "    elif val == 3:\n",
    "        plt.scatter(df['V1'][idx], df['V2'][idx], c = 'gray')\n",
    "    else:\n",
    "        plt.scatter(df['V1'][idx], df['V2'][idx], c = 'black')\n",
    "#     plt.scatter(df['V1'][idx], df['V2'][idx], c)\n",
    "# plt.plot(df['V1'], df['V2'])#, df == 0? c='red')\n",
    "# plt.plot(df['V1'], df['V2'], df == 1? c='blue')\n",
    "# plt.plot(df['V1'], df['V2'], df == 2? c='green')\n",
    "# plt.plot(df['V1'], df['V2'], df == 3? c='gray')"
   ],
   "metadata": {
    "collapsed": false
   }
  }
 ],
 "metadata": {
  "kernelspec": {
   "display_name": "Python 3",
   "language": "python",
   "name": "python3"
  },
  "language_info": {
   "codemirror_mode": {
    "name": "ipython",
    "version": 2
   },
   "file_extension": ".py",
   "mimetype": "text/x-python",
   "name": "python",
   "nbconvert_exporter": "python",
   "pygments_lexer": "ipython2",
   "version": "2.7.6"
  }
 },
 "nbformat": 4,
 "nbformat_minor": 0
}
